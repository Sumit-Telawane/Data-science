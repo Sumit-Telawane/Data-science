{
 "cells": [
  {
   "cell_type": "code",
   "execution_count": 2,
   "id": "d0cdc875",
   "metadata": {},
   "outputs": [],
   "source": [
    "import numpy as np"
   ]
  },
  {
   "cell_type": "code",
   "execution_count": 7,
   "id": "906582dc",
   "metadata": {},
   "outputs": [],
   "source": [
    "def KNN(x,y_p,):\n",
    "    knn=np.sqrt(np.(x-k)**2)\n",
    "    print(knn)\n",
    "    "
   ]
  },
  {
   "cell_type": "code",
   "execution_count": 5,
   "id": "4ed61988",
   "metadata": {},
   "outputs": [
    {
     "name": "stdout",
     "output_type": "stream",
     "text": [
      "3.5\n"
     ]
    }
   ],
   "source": [
    "knn=np.sqrt((2-5.5)**2)\n",
    "print(knn)"
   ]
  },
  {
   "cell_type": "code",
   "execution_count": 8,
   "id": "b7fa9c1e",
   "metadata": {},
   "outputs": [
    {
     "name": "stdout",
     "output_type": "stream",
     "text": [
      "[3.5 3.  2.5 1.5 0.5 0.5 1.5 2.5 3.5 4.5]\n"
     ]
    }
   ],
   "source": [
    "x=np.array([2,2.5,3,4,5,6,7,8,9,10])\n",
    "y=np.array([4,6.25,9,16,25,36,49,64,81,100])\n",
    "y_p=5.5\n",
    "\n",
    "KNN(x,k)"
   ]
  },
  {
   "cell_type": "code",
   "execution_count": null,
   "id": "f6d8a202",
   "metadata": {},
   "outputs": [],
   "source": []
  }
 ],
 "metadata": {
  "kernelspec": {
   "display_name": "Python 3 (ipykernel)",
   "language": "python",
   "name": "python3"
  },
  "language_info": {
   "codemirror_mode": {
    "name": "ipython",
    "version": 3
   },
   "file_extension": ".py",
   "mimetype": "text/x-python",
   "name": "python",
   "nbconvert_exporter": "python",
   "pygments_lexer": "ipython3",
   "version": "3.11.2"
  }
 },
 "nbformat": 4,
 "nbformat_minor": 5
}
