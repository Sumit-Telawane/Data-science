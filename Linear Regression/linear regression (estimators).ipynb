{
 "cells": [
  {
   "cell_type": "markdown",
   "id": "c790d8ee",
   "metadata": {},
   "source": [
    "**Predicted data** =(12,18,22,28,33,38,41,47,53,58)\n",
    "\n",
    "**Actual data** =(10,15,20,25,30,35,40,45,50,5)"
   ]
  },
  {
   "cell_type": "markdown",
   "id": "91193e32",
   "metadata": {},
   "source": [
    "# SSE (Sum of Squares Error)\n",
    "# formula:\n",
    "$$\\sum_{i=1}^n(y_i-\\hat{y}_i)^2$$\n",
    "yi represents the actual data values.\n",
    "\n",
    "ŷi represents the predicted data values."
   ]
  },
  {
   "cell_type": "code",
   "execution_count": 1,
   "id": "74fc18ba",
   "metadata": {},
   "outputs": [
    {
     "name": "stdout",
     "output_type": "stream",
     "text": [
      "Sum of Squares Error (SSE): 67\n"
     ]
    }
   ],
   "source": [
    "import numpy as np\n",
    "\n",
    "# Define the actual and predicted data as NumPy arrays\n",
    "actual_data = np.array([10, 15, 20, 25, 30, 35, 40, 45, 50, 55])\n",
    "predicted_data = np.array([12, 18, 22, 28, 33, 38, 41, 47, 53, 58])\n",
    "\n",
    "# Calculate the squared differences between actual and predicted data\n",
    "squared_errors = (actual_data - predicted_data) ** 2\n",
    "\n",
    "# Calculate the Sum of Squares Error (SSE)\n",
    "sse = np.sum(squared_errors)\n",
    "\n",
    "print(\"Sum of Squares Error (SSE):\", sse)\n"
   ]
  },
  {
   "cell_type": "markdown",
   "id": "35887627",
   "metadata": {},
   "source": [
    "## SAE (Sum of absolute error) \n",
    "## Formula\n",
    "$$\\sum_{i=1}^n |y_i - \\hat{y}_i|$$\n"
   ]
  },
  {
   "cell_type": "code",
   "execution_count": 2,
   "id": "12d33859",
   "metadata": {},
   "outputs": [
    {
     "name": "stdout",
     "output_type": "stream",
     "text": [
      "Sum of Absolute Error (SAE): 25\n"
     ]
    }
   ],
   "source": [
    "# Calculate the absolute differences between actual and predicted data\n",
    "absolute_errors = np.abs(actual_data - predicted_data)\n",
    "\n",
    "# Calculate the Sum of Absolute Error (SAE)\n",
    "sae = np.sum(absolute_errors)\n",
    "\n",
    "print(\"Sum of Absolute Error (SAE):\", sae)\n"
   ]
  },
  {
   "cell_type": "markdown",
   "id": "841db9f4",
   "metadata": {},
   "source": [
    "## MSE (Mean Squared Error)\n",
    "## Formula\n",
    "$$\\frac 1n\\sum_{i=1}^n(y_i-\\hat{y}_i)^2$$"
   ]
  },
  {
   "cell_type": "code",
   "execution_count": 3,
   "id": "b0fb926c",
   "metadata": {},
   "outputs": [
    {
     "name": "stdout",
     "output_type": "stream",
     "text": [
      "Mean Squared Error (MSE): 6.7\n"
     ]
    }
   ],
   "source": [
    "# Calculate the squared differences between actual and predicted data\n",
    "squared_errors = (actual_data - predicted_data) ** 2\n",
    "\n",
    "# Calculate the Mean Squared Error (MSE)\n",
    "mse = np.mean(squared_errors)\n",
    "\n",
    "print(\"Mean Squared Error (MSE):\", mse)\n"
   ]
  },
  {
   "cell_type": "markdown",
   "id": "6d98711a",
   "metadata": {},
   "source": [
    "## MAE (Mean Absolute Error)\n",
    "## Formula\n",
    "$$\\frac 1n\\sum_{i=1}^n|y_i-\\hat{y}_i|$$"
   ]
  },
  {
   "cell_type": "code",
   "execution_count": 4,
   "id": "16a805f1",
   "metadata": {},
   "outputs": [
    {
     "name": "stdout",
     "output_type": "stream",
     "text": [
      "Mean Absolute Error (MAE): 2.5\n"
     ]
    }
   ],
   "source": [
    "# Calculate the absolute differences between actual and predicted data\n",
    "absolute_errors = np.abs(actual_data - predicted_data)\n",
    "\n",
    "# Calculate the Mean Absolute Error (MAE)\n",
    "mae = np.mean(absolute_errors)\n",
    "\n",
    "print(\"Mean Absolute Error (MAE):\", mae)"
   ]
  },
  {
   "cell_type": "markdown",
   "id": "497815a5",
   "metadata": {},
   "source": [
    "## RMSE (Root Mean Squared Error)\n",
    "## Formula\n",
    "$$\\sqrt{\\frac 1n\\sum_{i=1}^n(y_i-\\hat{y}_i)^2}$$"
   ]
  },
  {
   "cell_type": "code",
   "execution_count": 5,
   "id": "ba35acbd",
   "metadata": {},
   "outputs": [
    {
     "name": "stdout",
     "output_type": "stream",
     "text": [
      "Root Mean Squared Error (RMSE): 2.588435821108957\n"
     ]
    }
   ],
   "source": [
    "# Calculate the squared differences between actual and predicted data\n",
    "squared_errors = (actual_data - predicted_data) ** 2\n",
    "\n",
    "# Calculate the mean of the squared differences\n",
    "mse = np.mean(squared_errors)\n",
    "\n",
    "# Take the square root to get RMSE\n",
    "rmse = np.sqrt(mse)\n",
    "\n",
    "print(\"Root Mean Squared Error (RMSE):\", rmse)"
   ]
  },
  {
   "cell_type": "markdown",
   "id": "70d2280a",
   "metadata": {},
   "source": [
    "## SST (Total Sum of Squares )\n",
    "**It is also knows as Coefficient of Determination**\n",
    "## Formula\n",
    "$$\\sum_{i=1}^{n} (Y_i - \\bar{Y})^2$$\n",
    "n is the number of data points.\n",
    "\n",
    "$Y_i$ represents each individual data point in the Actual data variable.\n",
    "\n",
    "$\\bar{Y}$ is the mean of the Actual data variable."
   ]
  },
  {
   "cell_type": "code",
   "execution_count": 6,
   "id": "9534293f",
   "metadata": {},
   "outputs": [
    {
     "name": "stdout",
     "output_type": "stream",
     "text": [
      "Total Sum of Squares (SST): 2062.5\n"
     ]
    }
   ],
   "source": [
    "# Calculate the mean of the actual data\n",
    "mean_actual_data = np.mean(actual_data)\n",
    "\n",
    "# Calculate the Total Sum of Squares (SST)\n",
    "sst = np.sum((actual_data - mean_actual_data) ** 2)\n",
    "\n",
    "print(\"Total Sum of Squares (SST):\", sst)"
   ]
  },
  {
   "cell_type": "markdown",
   "id": "776e957f",
   "metadata": {},
   "source": [
    "## $R^2$(R Square)\n",
    "$$R^2 = 1 - \\frac{SSR}{SST}$$\n"
   ]
  },
  {
   "cell_type": "code",
   "execution_count": 7,
   "id": "47b9b96a",
   "metadata": {},
   "outputs": [
    {
     "name": "stdout",
     "output_type": "stream",
     "text": [
      "R-squared (Coefficient of Determination): 0.9675151515151516\n"
     ]
    }
   ],
   "source": [
    "# Calculate R-squared using the formula\n",
    "r_squared = 1 - (sse / sst)\n",
    "\n",
    "print(\"R-squared (Coefficient of Determination):\", r_squared)"
   ]
  },
  {
   "cell_type": "markdown",
   "id": "8a236f02",
   "metadata": {},
   "source": [
    "## Adjusted R-squared \n",
    "## Formula\n",
    "$$1 - \\frac{(1 - R^2) \\cdot (n - 1)}{n - k - 1}$$\n",
    "n is the number of data points (sample size).\n",
    "\n",
    "k is the number of predictors (independent variables) in the model."
   ]
  },
  {
   "cell_type": "code",
   "execution_count": 8,
   "id": "946923b1",
   "metadata": {},
   "outputs": [
    {
     "name": "stdout",
     "output_type": "stream",
     "text": [
      "Adjusted R-squared: 0.9634545454545455\n"
     ]
    }
   ],
   "source": [
    "num_predictors = 1  # Replace with the actual number of predictors in your model\n",
    "# Calculate the Adjusted R-squared\n",
    "n = len(actual_data)\n",
    "adjusted_r_squared = 1 - ((1 - r_squared) * (n - 1) / (n - num_predictors - 1))\n",
    "\n",
    "print(\"Adjusted R-squared:\", adjusted_r_squared)"
   ]
  },
  {
   "cell_type": "markdown",
   "id": "0015db55",
   "metadata": {},
   "source": []
  },
  {
   "cell_type": "markdown",
   "id": "721b8f10",
   "metadata": {},
   "source": [
    "## MAKING CLASS FOR FUTURE USE"
   ]
  },
  {
   "cell_type": "code",
   "execution_count": 9,
   "id": "fb85b46b",
   "metadata": {},
   "outputs": [
    {
     "name": "stdout",
     "output_type": "stream",
     "text": [
      "Sum of Squares Error (SSE): 67\n",
      "\n",
      "Sum of Absolute Error (SAE): 25\n",
      "\n",
      "Mean Absolute Error (MAE): 2.5\n",
      "\n",
      "Root Mean Squared Error (RMSE): 2.588435821108957\n",
      "\n",
      "Total Sum of Squares (SST): 2062.5\n",
      "\n",
      "R-squared (Coefficient of Determination): 0.9675151515151516\n",
      "\n",
      "Adjusted R-squared: 0.9634545454545455\n",
      "\n"
     ]
    }
   ],
   "source": [
    "import numpy as np\n",
    "class Sumit:\n",
    "    def LR_estimators(actual_data,predicted_data):\n",
    "\n",
    "        # Calculate the squared differences between actual and predicted data\n",
    "        squared_errors = (actual_data - predicted_data) ** 2\n",
    "\n",
    "        # Calculate the Sum of Squares Error (SSE)\n",
    "        sse = np.sum(squared_errors)\n",
    "\n",
    "        print(\"Sum of Squares Error (SSE):\", sse)\n",
    "        print()\n",
    "\n",
    "\n",
    "\n",
    "        # Calculate the absolute differences between actual and predicted data\n",
    "        absolute_errors = np.abs(actual_data - predicted_data)\n",
    "\n",
    "        # Calculate the Sum of Absolute Error (SAE)\n",
    "        sae = np.sum(absolute_errors)\n",
    "\n",
    "        print(\"Sum of Absolute Error (SAE):\", sae)\n",
    "        print()\n",
    "\n",
    "\n",
    "\n",
    "        # Calculate the absolute differences between actual and predicted data\n",
    "        absolute_errors = np.abs(actual_data - predicted_data)\n",
    "\n",
    "        # Calculate the Mean Absolute Error (MAE)\n",
    "        mae = np.mean(absolute_errors)\n",
    "\n",
    "        print(\"Mean Absolute Error (MAE):\", mae)\n",
    "        print()\n",
    "\n",
    "\n",
    "\n",
    "        # Calculate the squared differences between actual and predicted data\n",
    "        squared_errors = (actual_data - predicted_data) ** 2\n",
    "\n",
    "        # Calculate the mean of the squared differences\n",
    "        mse = np.mean(squared_errors)\n",
    "\n",
    "        # Take the square root to get RMSE\n",
    "        rmse = np.sqrt(mse)\n",
    "\n",
    "        print(\"Root Mean Squared Error (RMSE):\", rmse)\n",
    "        print()\n",
    "\n",
    "\n",
    "\n",
    "        # Calculate the mean of the actual data\n",
    "        mean_actual_data = np.mean(actual_data)\n",
    "\n",
    "        # Calculate the Total Sum of Squares (SST)\n",
    "        sst = np.sum((actual_data - mean_actual_data) ** 2)\n",
    "\n",
    "        print(\"Total Sum of Squares (SST):\", sst)\n",
    "        print()\n",
    "\n",
    "\n",
    "\n",
    "        # Calculate R-squared using the formula\n",
    "        r_squared = 1 - (sse / sst)\n",
    "\n",
    "        print(\"R-squared (Coefficient of Determination):\", r_squared)\n",
    "        print()\n",
    "\n",
    "\n",
    "\n",
    "        num_predictors = 1  # Replace with the actual number of predictors in your model\n",
    "        # Calculate the Adjusted R-squared\n",
    "        n = len(actual_data)\n",
    "        adjusted_r_squared = 1 - ((1 - r_squared) * (n - 1) / (n - num_predictors - 1))\n",
    "\n",
    "        print(\"Adjusted R-squared:\", adjusted_r_squared)\n",
    "        print()\n",
    "        \n",
    "\n",
    "# your values\n",
    "y1= np.array([10, 15, 20, 25, 30, 35, 40, 45, 50, 55])\n",
    "y2= np.array([12, 18, 22, 28, 33, 38, 41, 47, 53, 58])\n",
    "\n",
    "# to opreate your code\n",
    "Sumit.LR_estimators(y1,y2)"
   ]
  }
 ],
 "metadata": {
  "kernelspec": {
   "display_name": "Python 3 (ipykernel)",
   "language": "python",
   "name": "python3"
  },
  "language_info": {
   "codemirror_mode": {
    "name": "ipython",
    "version": 3
   },
   "file_extension": ".py",
   "mimetype": "text/x-python",
   "name": "python",
   "nbconvert_exporter": "python",
   "pygments_lexer": "ipython3",
   "version": "3.11.2"
  }
 },
 "nbformat": 4,
 "nbformat_minor": 5
}
