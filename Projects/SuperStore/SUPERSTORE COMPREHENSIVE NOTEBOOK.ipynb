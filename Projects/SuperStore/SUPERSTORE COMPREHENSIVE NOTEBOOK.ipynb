{
 "cells": [
  {
   "cell_type": "code",
   "execution_count": 3,
   "id": "0ea20db3",
   "metadata": {},
   "outputs": [],
   "source": [
    "# Import necessary libraries\n",
    "import pandas as pd\n",
    "import numpy as np\n",
    "import scipy.stats as stats\n",
    "import seaborn as sns\n",
    "import matplotlib.pyplot as plt"
   ]
  },
  {
   "cell_type": "code",
   "execution_count": 4,
   "id": "583623a0",
   "metadata": {},
   "outputs": [
    {
     "data": {
      "text/plain": [
       "<bound method DataFrame.info of       row id   customer id order date shipping date       ship mode  \\\n",
       "0          1  CA2016152156 2023-07-01    2021-07-08    Second Class   \n",
       "1          2  CA2016152156 2022-07-03    2023-05-11    Second Class   \n",
       "2          3  CA2016138688 2021-08-16    2021-11-02    Second Class   \n",
       "3          4  US2015108966 2021-04-14    2022-12-21  Standard Class   \n",
       "4          5  US2015108966 2021-01-02    2021-08-26  Standard Class   \n",
       "...      ...           ...        ...           ...             ...   \n",
       "9985    9986  CA2014110422 2022-04-25    2021-11-15    Second Class   \n",
       "9986    9987  CA2017121258 2022-06-29    2022-04-09  Standard Class   \n",
       "9987    9988  CA2017121258 2023-06-09    2023-02-18  Standard Class   \n",
       "9988    9989  CA2017121258 2022-04-01    2022-01-22  Standard Class   \n",
       "9989    9990  CA2017119914 2022-08-29    2022-10-14    Second Class   \n",
       "\n",
       "     customer id.1     customer name    segment        country  \\\n",
       "0          CG12520       Claire Gute   Consumer  United States   \n",
       "1          CG12520       Claire Gute   Consumer  United States   \n",
       "2          DV13045   Darrin Van Huff  Corporate  United States   \n",
       "3          SO20335     Sean ODonnell   Consumer  United States   \n",
       "4          SO20335     Sean ODonnell   Consumer  United States   \n",
       "...            ...               ...        ...            ...   \n",
       "9985       TB21400  Tom Boeckenhauer   Consumer  United States   \n",
       "9986       DB13060       Dave Brooks   Consumer  United States   \n",
       "9987       DB13060       Dave Brooks   Consumer  United States   \n",
       "9988       DB13060       Dave Brooks   Consumer  United States   \n",
       "9989       CC12220      Chris Cortes   Consumer  United States   \n",
       "\n",
       "                 city  ... postal code  region     product id  \\\n",
       "0           Henderson  ...       42420   South  FURBO10001798   \n",
       "1           Henderson  ...       42420   South  FURCH10000454   \n",
       "2         Los Angeles  ...       90036    West  OFFLA10000240   \n",
       "3     Fort Lauderdale  ...       33311   South  FURTA10000577   \n",
       "4     Fort Lauderdale  ...       33311   South  OFFST10000760   \n",
       "...               ...  ...         ...     ...            ...   \n",
       "9985            Miami  ...       33180   South  FURFU10001889   \n",
       "9986       Costa Mesa  ...       92627    West  FURFU10000747   \n",
       "9987       Costa Mesa  ...       92627    West  TECPH10003645   \n",
       "9988       Costa Mesa  ...       92627    West  OFFPA10004041   \n",
       "9989      Westminster  ...       92683    West  OFFAP10002684   \n",
       "\n",
       "             category sub category  \\\n",
       "0           Furniture    Bookcases   \n",
       "1           Furniture       Chairs   \n",
       "2     Office Supplies       Labels   \n",
       "3           Furniture       Tables   \n",
       "4     Office Supplies      Storage   \n",
       "...               ...          ...   \n",
       "9985        Furniture  Furnishings   \n",
       "9986        Furniture  Furnishings   \n",
       "9987       Technology       Phones   \n",
       "9988  Office Supplies        Paper   \n",
       "9989  Office Supplies   Appliances   \n",
       "\n",
       "                                           product name     sales  quantity  \\\n",
       "0                     Bush Somerset Collection Bookcase  261.9600         2   \n",
       "1     Hon Deluxe Fabric Upholstered Stacking Chairs ...  731.9400         3   \n",
       "2     SelfAdhesive Address Labels for Typewriters by...   14.6200         2   \n",
       "3         Bretford CR4500 Series Slim Rectangular Table  957.5775         5   \n",
       "4                         Eldon Fold N Roll Cart System   22.3680         2   \n",
       "...                                                 ...       ...       ...   \n",
       "9985                             Ultra Door Pull Handle   25.2480         3   \n",
       "9986  Tenex B1RE Series Chair Mats for Low Pile Carpets   91.9600         2   \n",
       "9987                              Aastra 57i VoIP phone  258.5760         2   \n",
       "9988    Its Hot Message Books with Stickers 2 3/4\" x 5\"   29.6000         4   \n",
       "9989  Acco 7Outlet Masterpiece Power Center Wihtout ...  243.1600         2   \n",
       "\n",
       "      discount    profit  \n",
       "0         0.00   41.9136  \n",
       "1         0.00  219.5820  \n",
       "2         0.00    6.8714  \n",
       "3         0.45  383.0310  \n",
       "4         0.20    2.5164  \n",
       "...        ...       ...  \n",
       "9985      0.20    4.1028  \n",
       "9986      0.00   15.6332  \n",
       "9987      0.20   19.3932  \n",
       "9988      0.00   13.3200  \n",
       "9989      0.00   72.9480  \n",
       "\n",
       "[9990 rows x 21 columns]>"
      ]
     },
     "execution_count": 4,
     "metadata": {},
     "output_type": "execute_result"
    }
   ],
   "source": [
    "# Load the dataset using pd.read_excel() with lowercase column names\n",
    "df = pd.read_excel('Superstore - Copy.xlsx')\n",
    "df.info"
   ]
  },
  {
   "cell_type": "code",
   "execution_count": 46,
   "id": "6c75b45c",
   "metadata": {},
   "outputs": [
    {
     "data": {
      "text/html": [
       "<div>\n",
       "<style scoped>\n",
       "    .dataframe tbody tr th:only-of-type {\n",
       "        vertical-align: middle;\n",
       "    }\n",
       "\n",
       "    .dataframe tbody tr th {\n",
       "        vertical-align: top;\n",
       "    }\n",
       "\n",
       "    .dataframe thead th {\n",
       "        text-align: right;\n",
       "    }\n",
       "</style>\n",
       "<table border=\"1\" class=\"dataframe\">\n",
       "  <thead>\n",
       "    <tr style=\"text-align: right;\">\n",
       "      <th></th>\n",
       "      <th>row id</th>\n",
       "      <th>customer id</th>\n",
       "      <th>order date</th>\n",
       "      <th>shipping date</th>\n",
       "      <th>ship mode</th>\n",
       "      <th>customer id.1</th>\n",
       "      <th>customer name</th>\n",
       "      <th>segment</th>\n",
       "      <th>country</th>\n",
       "      <th>city</th>\n",
       "      <th>...</th>\n",
       "      <th>postal code</th>\n",
       "      <th>region</th>\n",
       "      <th>product id</th>\n",
       "      <th>category</th>\n",
       "      <th>sub category</th>\n",
       "      <th>product name</th>\n",
       "      <th>sales</th>\n",
       "      <th>quantity</th>\n",
       "      <th>discount</th>\n",
       "      <th>profit</th>\n",
       "    </tr>\n",
       "  </thead>\n",
       "  <tbody>\n",
       "    <tr>\n",
       "      <th>0</th>\n",
       "      <td>1</td>\n",
       "      <td>CA2016152156</td>\n",
       "      <td>2023-07-01</td>\n",
       "      <td>2021-07-08</td>\n",
       "      <td>Second Class</td>\n",
       "      <td>CG12520</td>\n",
       "      <td>Claire Gute</td>\n",
       "      <td>Consumer</td>\n",
       "      <td>United States</td>\n",
       "      <td>Henderson</td>\n",
       "      <td>...</td>\n",
       "      <td>42420</td>\n",
       "      <td>South</td>\n",
       "      <td>FURBO10001798</td>\n",
       "      <td>Furniture</td>\n",
       "      <td>Bookcases</td>\n",
       "      <td>Bush Somerset Collection Bookcase</td>\n",
       "      <td>261.9600</td>\n",
       "      <td>2</td>\n",
       "      <td>0.00</td>\n",
       "      <td>41.9136</td>\n",
       "    </tr>\n",
       "    <tr>\n",
       "      <th>1</th>\n",
       "      <td>2</td>\n",
       "      <td>CA2016152156</td>\n",
       "      <td>2022-07-03</td>\n",
       "      <td>2023-05-11</td>\n",
       "      <td>Second Class</td>\n",
       "      <td>CG12520</td>\n",
       "      <td>Claire Gute</td>\n",
       "      <td>Consumer</td>\n",
       "      <td>United States</td>\n",
       "      <td>Henderson</td>\n",
       "      <td>...</td>\n",
       "      <td>42420</td>\n",
       "      <td>South</td>\n",
       "      <td>FURCH10000454</td>\n",
       "      <td>Furniture</td>\n",
       "      <td>Chairs</td>\n",
       "      <td>Hon Deluxe Fabric Upholstered Stacking Chairs ...</td>\n",
       "      <td>731.9400</td>\n",
       "      <td>3</td>\n",
       "      <td>0.00</td>\n",
       "      <td>219.5820</td>\n",
       "    </tr>\n",
       "    <tr>\n",
       "      <th>2</th>\n",
       "      <td>3</td>\n",
       "      <td>CA2016138688</td>\n",
       "      <td>2021-08-16</td>\n",
       "      <td>2021-11-02</td>\n",
       "      <td>Second Class</td>\n",
       "      <td>DV13045</td>\n",
       "      <td>Darrin Van Huff</td>\n",
       "      <td>Corporate</td>\n",
       "      <td>United States</td>\n",
       "      <td>Los Angeles</td>\n",
       "      <td>...</td>\n",
       "      <td>90036</td>\n",
       "      <td>West</td>\n",
       "      <td>OFFLA10000240</td>\n",
       "      <td>Office Supplies</td>\n",
       "      <td>Labels</td>\n",
       "      <td>SelfAdhesive Address Labels for Typewriters by...</td>\n",
       "      <td>14.6200</td>\n",
       "      <td>2</td>\n",
       "      <td>0.00</td>\n",
       "      <td>6.8714</td>\n",
       "    </tr>\n",
       "    <tr>\n",
       "      <th>3</th>\n",
       "      <td>4</td>\n",
       "      <td>US2015108966</td>\n",
       "      <td>2021-04-14</td>\n",
       "      <td>2022-12-21</td>\n",
       "      <td>Standard Class</td>\n",
       "      <td>SO20335</td>\n",
       "      <td>Sean ODonnell</td>\n",
       "      <td>Consumer</td>\n",
       "      <td>United States</td>\n",
       "      <td>Fort Lauderdale</td>\n",
       "      <td>...</td>\n",
       "      <td>33311</td>\n",
       "      <td>South</td>\n",
       "      <td>FURTA10000577</td>\n",
       "      <td>Furniture</td>\n",
       "      <td>Tables</td>\n",
       "      <td>Bretford CR4500 Series Slim Rectangular Table</td>\n",
       "      <td>957.5775</td>\n",
       "      <td>5</td>\n",
       "      <td>0.45</td>\n",
       "      <td>383.0310</td>\n",
       "    </tr>\n",
       "    <tr>\n",
       "      <th>4</th>\n",
       "      <td>5</td>\n",
       "      <td>US2015108966</td>\n",
       "      <td>2021-01-02</td>\n",
       "      <td>2021-08-26</td>\n",
       "      <td>Standard Class</td>\n",
       "      <td>SO20335</td>\n",
       "      <td>Sean ODonnell</td>\n",
       "      <td>Consumer</td>\n",
       "      <td>United States</td>\n",
       "      <td>Fort Lauderdale</td>\n",
       "      <td>...</td>\n",
       "      <td>33311</td>\n",
       "      <td>South</td>\n",
       "      <td>OFFST10000760</td>\n",
       "      <td>Office Supplies</td>\n",
       "      <td>Storage</td>\n",
       "      <td>Eldon Fold N Roll Cart System</td>\n",
       "      <td>22.3680</td>\n",
       "      <td>2</td>\n",
       "      <td>0.20</td>\n",
       "      <td>2.5164</td>\n",
       "    </tr>\n",
       "  </tbody>\n",
       "</table>\n",
       "<p>5 rows × 21 columns</p>\n",
       "</div>"
      ],
      "text/plain": [
       "   row id   customer id order date shipping date       ship mode  \\\n",
       "0       1  CA2016152156 2023-07-01    2021-07-08    Second Class   \n",
       "1       2  CA2016152156 2022-07-03    2023-05-11    Second Class   \n",
       "2       3  CA2016138688 2021-08-16    2021-11-02    Second Class   \n",
       "3       4  US2015108966 2021-04-14    2022-12-21  Standard Class   \n",
       "4       5  US2015108966 2021-01-02    2021-08-26  Standard Class   \n",
       "\n",
       "  customer id.1    customer name    segment        country             city  \\\n",
       "0       CG12520      Claire Gute   Consumer  United States        Henderson   \n",
       "1       CG12520      Claire Gute   Consumer  United States        Henderson   \n",
       "2       DV13045  Darrin Van Huff  Corporate  United States      Los Angeles   \n",
       "3       SO20335    Sean ODonnell   Consumer  United States  Fort Lauderdale   \n",
       "4       SO20335    Sean ODonnell   Consumer  United States  Fort Lauderdale   \n",
       "\n",
       "   ... postal code  region     product id         category sub category  \\\n",
       "0  ...       42420   South  FURBO10001798        Furniture    Bookcases   \n",
       "1  ...       42420   South  FURCH10000454        Furniture       Chairs   \n",
       "2  ...       90036    West  OFFLA10000240  Office Supplies       Labels   \n",
       "3  ...       33311   South  FURTA10000577        Furniture       Tables   \n",
       "4  ...       33311   South  OFFST10000760  Office Supplies      Storage   \n",
       "\n",
       "                                        product name     sales  quantity  \\\n",
       "0                  Bush Somerset Collection Bookcase  261.9600         2   \n",
       "1  Hon Deluxe Fabric Upholstered Stacking Chairs ...  731.9400         3   \n",
       "2  SelfAdhesive Address Labels for Typewriters by...   14.6200         2   \n",
       "3      Bretford CR4500 Series Slim Rectangular Table  957.5775         5   \n",
       "4                      Eldon Fold N Roll Cart System   22.3680         2   \n",
       "\n",
       "   discount    profit  \n",
       "0      0.00   41.9136  \n",
       "1      0.00  219.5820  \n",
       "2      0.00    6.8714  \n",
       "3      0.45  383.0310  \n",
       "4      0.20    2.5164  \n",
       "\n",
       "[5 rows x 21 columns]"
      ]
     },
     "execution_count": 46,
     "metadata": {},
     "output_type": "execute_result"
    }
   ],
   "source": [
    "df.head()"
   ]
  },
  {
   "cell_type": "code",
   "execution_count": 3,
   "id": "2a5e563c",
   "metadata": {},
   "outputs": [
    {
     "name": "stdout",
     "output_type": "stream",
     "text": [
      "\n"
     ]
    },
    {
     "data": {
      "text/html": [
       "<div>\n",
       "<style scoped>\n",
       "    .dataframe tbody tr th:only-of-type {\n",
       "        vertical-align: middle;\n",
       "    }\n",
       "\n",
       "    .dataframe tbody tr th {\n",
       "        vertical-align: top;\n",
       "    }\n",
       "\n",
       "    .dataframe thead th {\n",
       "        text-align: right;\n",
       "    }\n",
       "</style>\n",
       "<table border=\"1\" class=\"dataframe\">\n",
       "  <thead>\n",
       "    <tr style=\"text-align: right;\">\n",
       "      <th></th>\n",
       "      <th>row id</th>\n",
       "      <th>order date</th>\n",
       "      <th>shipping date</th>\n",
       "      <th>postal code</th>\n",
       "      <th>sales</th>\n",
       "      <th>quantity</th>\n",
       "      <th>discount</th>\n",
       "      <th>profit</th>\n",
       "    </tr>\n",
       "  </thead>\n",
       "  <tbody>\n",
       "    <tr>\n",
       "      <th>count</th>\n",
       "      <td>9990.000000</td>\n",
       "      <td>9990</td>\n",
       "      <td>9990</td>\n",
       "      <td>9990.000000</td>\n",
       "      <td>9990.000000</td>\n",
       "      <td>9990.000000</td>\n",
       "      <td>9990.000000</td>\n",
       "      <td>9990.000000</td>\n",
       "    </tr>\n",
       "    <tr>\n",
       "      <th>mean</th>\n",
       "      <td>4995.500000</td>\n",
       "      <td>2022-04-18 18:55:08.108108032</td>\n",
       "      <td>2022-04-18 08:56:04.324324352</td>\n",
       "      <td>55180.614314</td>\n",
       "      <td>229.827353</td>\n",
       "      <td>3.789790</td>\n",
       "      <td>0.156225</td>\n",
       "      <td>59.916593</td>\n",
       "    </tr>\n",
       "    <tr>\n",
       "      <th>min</th>\n",
       "      <td>1.000000</td>\n",
       "      <td>2021-01-01 00:00:00</td>\n",
       "      <td>2021-01-01 00:00:00</td>\n",
       "      <td>1040.000000</td>\n",
       "      <td>0.444000</td>\n",
       "      <td>1.000000</td>\n",
       "      <td>0.000000</td>\n",
       "      <td>0.000000</td>\n",
       "    </tr>\n",
       "    <tr>\n",
       "      <th>25%</th>\n",
       "      <td>2498.250000</td>\n",
       "      <td>2021-08-21 00:00:00</td>\n",
       "      <td>2021-08-27 00:00:00</td>\n",
       "      <td>23223.000000</td>\n",
       "      <td>17.280000</td>\n",
       "      <td>2.000000</td>\n",
       "      <td>0.000000</td>\n",
       "      <td>5.369000</td>\n",
       "    </tr>\n",
       "    <tr>\n",
       "      <th>50%</th>\n",
       "      <td>4995.500000</td>\n",
       "      <td>2022-04-18 00:00:00</td>\n",
       "      <td>2022-04-21 00:00:00</td>\n",
       "      <td>56301.000000</td>\n",
       "      <td>54.432000</td>\n",
       "      <td>3.000000</td>\n",
       "      <td>0.200000</td>\n",
       "      <td>13.970000</td>\n",
       "    </tr>\n",
       "    <tr>\n",
       "      <th>75%</th>\n",
       "      <td>7492.750000</td>\n",
       "      <td>2022-12-10 00:00:00</td>\n",
       "      <td>2022-12-08 00:00:00</td>\n",
       "      <td>90008.000000</td>\n",
       "      <td>209.937500</td>\n",
       "      <td>5.000000</td>\n",
       "      <td>0.200000</td>\n",
       "      <td>43.152450</td>\n",
       "    </tr>\n",
       "    <tr>\n",
       "      <th>max</th>\n",
       "      <td>9990.000000</td>\n",
       "      <td>2023-08-01 00:00:00</td>\n",
       "      <td>2023-08-01 00:00:00</td>\n",
       "      <td>99301.000000</td>\n",
       "      <td>22638.480000</td>\n",
       "      <td>14.000000</td>\n",
       "      <td>0.800000</td>\n",
       "      <td>8399.976000</td>\n",
       "    </tr>\n",
       "    <tr>\n",
       "      <th>std</th>\n",
       "      <td>2884.008929</td>\n",
       "      <td>NaN</td>\n",
       "      <td>NaN</td>\n",
       "      <td>32064.346058</td>\n",
       "      <td>623.327164</td>\n",
       "      <td>2.225467</td>\n",
       "      <td>0.206481</td>\n",
       "      <td>228.321164</td>\n",
       "    </tr>\n",
       "  </tbody>\n",
       "</table>\n",
       "</div>"
      ],
      "text/plain": [
       "            row id                     order date  \\\n",
       "count  9990.000000                           9990   \n",
       "mean   4995.500000  2022-04-18 18:55:08.108108032   \n",
       "min       1.000000            2021-01-01 00:00:00   \n",
       "25%    2498.250000            2021-08-21 00:00:00   \n",
       "50%    4995.500000            2022-04-18 00:00:00   \n",
       "75%    7492.750000            2022-12-10 00:00:00   \n",
       "max    9990.000000            2023-08-01 00:00:00   \n",
       "std    2884.008929                            NaN   \n",
       "\n",
       "                       shipping date   postal code         sales     quantity  \\\n",
       "count                           9990   9990.000000   9990.000000  9990.000000   \n",
       "mean   2022-04-18 08:56:04.324324352  55180.614314    229.827353     3.789790   \n",
       "min              2021-01-01 00:00:00   1040.000000      0.444000     1.000000   \n",
       "25%              2021-08-27 00:00:00  23223.000000     17.280000     2.000000   \n",
       "50%              2022-04-21 00:00:00  56301.000000     54.432000     3.000000   \n",
       "75%              2022-12-08 00:00:00  90008.000000    209.937500     5.000000   \n",
       "max              2023-08-01 00:00:00  99301.000000  22638.480000    14.000000   \n",
       "std                              NaN  32064.346058    623.327164     2.225467   \n",
       "\n",
       "          discount       profit  \n",
       "count  9990.000000  9990.000000  \n",
       "mean      0.156225    59.916593  \n",
       "min       0.000000     0.000000  \n",
       "25%       0.000000     5.369000  \n",
       "50%       0.200000    13.970000  \n",
       "75%       0.200000    43.152450  \n",
       "max       0.800000  8399.976000  \n",
       "std       0.206481   228.321164  "
      ]
     },
     "execution_count": 3,
     "metadata": {},
     "output_type": "execute_result"
    }
   ],
   "source": [
    "# Summary Statistics\n",
    "summary_stats = df.describe()\n",
    "print()\n",
    "\n",
    "df.describe()"
   ]
  },
  {
   "cell_type": "code",
   "execution_count": 4,
   "id": "f13c0ebd",
   "metadata": {},
   "outputs": [
    {
     "name": "stdout",
     "output_type": "stream",
     "text": [
      "Descriptive Statistics:\n",
      "              sales     quantity     discount       profit\n",
      "count   9990.000000  9990.000000  9990.000000  9990.000000\n",
      "mean     229.827353     3.789790     0.156225    59.916593\n",
      "min        0.444000     1.000000     0.000000     0.000000\n",
      "25%       17.280000     2.000000     0.000000     5.369000\n",
      "50%       54.432000     3.000000     0.200000    13.970000\n",
      "75%      209.937500     5.000000     0.200000    43.152450\n",
      "max    22638.480000    14.000000     0.800000  8399.976000\n",
      "std      623.327164     2.225467     0.206481   228.321164\n"
     ]
    }
   ],
   "source": [
    "# Descriptive Statistics\n",
    "print(\"Descriptive Statistics:\")\n",
    "print(summary_stats[['sales','quantity','discount','profit']])"
   ]
  },
  {
   "cell_type": "code",
   "execution_count": 6,
   "id": "2ec15ef0",
   "metadata": {},
   "outputs": [
    {
     "data": {
      "text/plain": [
       "['Office Supplies', 'Furniture']"
      ]
     },
     "execution_count": 6,
     "metadata": {},
     "output_type": "execute_result"
    }
   ],
   "source": [
    "df['category'].value_counts().head(2).index.tolist()"
   ]
  },
  {
   "cell_type": "code",
   "execution_count": 7,
   "id": "5141d841",
   "metadata": {},
   "outputs": [
    {
     "data": {
      "text/plain": [
       "0.7874705783917679"
      ]
     },
     "execution_count": 7,
     "metadata": {},
     "output_type": "execute_result"
    }
   ],
   "source": [
    "df['sales'].corr(df['profit'])"
   ]
  },
  {
   "cell_type": "code",
   "execution_count": 5,
   "id": "d8ce4d9c",
   "metadata": {},
   "outputs": [
    {
     "data": {
      "image/png": "[encoded data removed]",
      "text/plain": [
       "<Figure size 1200x800 with 2 Axes>"
      ]
     },
     "metadata": {},
     "output_type": "display_data"
    }
   ],
   "source": [
    "numerical_columns = df.select_dtypes(include=['number'])\n",
    "correlation_matrix = numerical_columns.corr()\n",
    "plt.figure(figsize=(12, 8))\n",
    "sns.heatmap(correlation_matrix, annot=True, cmap=\"RdYlBu\", linewidths=0.5)\n",
    "plt.title(\"Correlation Heatmap\")\n",
    "plt.show()\n"
   ]
  },
  {
   "cell_type": "code",
   "execution_count": 20,
   "id": "3bd3029c",
   "metadata": {},
   "outputs": [
    {
     "name": "stdout",
     "output_type": "stream",
     "text": [
      "\n",
      "Number of missing values in each column:\n",
      "row id           0\n",
      "customer id      0\n",
      "order date       0\n",
      "shipping date    0\n",
      "ship mode        0\n",
      "customer id.1    0\n",
      "customer name    0\n",
      "segment          0\n",
      "country          0\n",
      "city             0\n",
      "state            0\n",
      "postal code      0\n",
      "region           0\n",
      "product id       0\n",
      "category         0\n",
      "sub category     0\n",
      "product name     0\n",
      "sales            0\n",
      "quantity         0\n",
      "discount         0\n",
      "profit           0\n",
      "dtype: int64\n",
      "\n",
      "\n",
      "Total number of missing values in the dataset: 0\n",
      "\n",
      "Missing values in the entire dataset:\n"
     ]
    },
    {
     "data": {
      "text/html": [
       "<div>\n",
       "<style scoped>\n",
       "    .dataframe tbody tr th:only-of-type {\n",
       "        vertical-align: middle;\n",
       "    }\n",
       "\n",
       "    .dataframe tbody tr th {\n",
       "        vertical-align: top;\n",
       "    }\n",
       "\n",
       "    .dataframe thead th {\n",
       "        text-align: right;\n",
       "    }\n",
       "</style>\n",
       "<table border=\"1\" class=\"dataframe\">\n",
       "  <thead>\n",
       "    <tr style=\"text-align: right;\">\n",
       "      <th></th>\n",
       "      <th>row id</th>\n",
       "      <th>customer id</th>\n",
       "      <th>order date</th>\n",
       "      <th>shipping date</th>\n",
       "      <th>ship mode</th>\n",
       "      <th>customer id.1</th>\n",
       "      <th>customer name</th>\n",
       "      <th>segment</th>\n",
       "      <th>country</th>\n",
       "      <th>city</th>\n",
       "      <th>...</th>\n",
       "      <th>postal code</th>\n",
       "      <th>region</th>\n",
       "      <th>product id</th>\n",
       "      <th>category</th>\n",
       "      <th>sub category</th>\n",
       "      <th>product name</th>\n",
       "      <th>sales</th>\n",
       "      <th>quantity</th>\n",
       "      <th>discount</th>\n",
       "      <th>profit</th>\n",
       "    </tr>\n",
       "  </thead>\n",
       "  <tbody>\n",
       "    <tr>\n",
       "      <th>0</th>\n",
       "      <td>False</td>\n",
       "      <td>False</td>\n",
       "      <td>False</td>\n",
       "      <td>False</td>\n",
       "      <td>False</td>\n",
       "      <td>False</td>\n",
       "      <td>False</td>\n",
       "      <td>False</td>\n",
       "      <td>False</td>\n",
       "      <td>False</td>\n",
       "      <td>...</td>\n",
       "      <td>False</td>\n",
       "      <td>False</td>\n",
       "      <td>False</td>\n",
       "      <td>False</td>\n",
       "      <td>False</td>\n",
       "      <td>False</td>\n",
       "      <td>False</td>\n",
       "      <td>False</td>\n",
       "      <td>False</td>\n",
       "      <td>False</td>\n",
       "    </tr>\n",
       "    <tr>\n",
       "      <th>1</th>\n",
       "      <td>False</td>\n",
       "      <td>False</td>\n",
       "      <td>False</td>\n",
       "      <td>False</td>\n",
       "      <td>False</td>\n",
       "      <td>False</td>\n",
       "      <td>False</td>\n",
       "      <td>False</td>\n",
       "      <td>False</td>\n",
       "      <td>False</td>\n",
       "      <td>...</td>\n",
       "      <td>False</td>\n",
       "      <td>False</td>\n",
       "      <td>False</td>\n",
       "      <td>False</td>\n",
       "      <td>False</td>\n",
       "      <td>False</td>\n",
       "      <td>False</td>\n",
       "      <td>False</td>\n",
       "      <td>False</td>\n",
       "      <td>False</td>\n",
       "    </tr>\n",
       "    <tr>\n",
       "      <th>2</th>\n",
       "      <td>False</td>\n",
       "      <td>False</td>\n",
       "      <td>False</td>\n",
       "      <td>False</td>\n",
       "      <td>False</td>\n",
       "      <td>False</td>\n",
       "      <td>False</td>\n",
       "      <td>False</td>\n",
       "      <td>False</td>\n",
       "      <td>False</td>\n",
       "      <td>...</td>\n",
       "      <td>False</td>\n",
       "      <td>False</td>\n",
       "      <td>False</td>\n",
       "      <td>False</td>\n",
       "      <td>False</td>\n",
       "      <td>False</td>\n",
       "      <td>False</td>\n",
       "      <td>False</td>\n",
       "      <td>False</td>\n",
       "      <td>False</td>\n",
       "    </tr>\n",
       "    <tr>\n",
       "      <th>3</th>\n",
       "      <td>False</td>\n",
       "      <td>False</td>\n",
       "      <td>False</td>\n",
       "      <td>False</td>\n",
       "      <td>False</td>\n",
       "      <td>False</td>\n",
       "      <td>False</td>\n",
       "      <td>False</td>\n",
       "      <td>False</td>\n",
       "      <td>False</td>\n",
       "      <td>...</td>\n",
       "      <td>False</td>\n",
       "      <td>False</td>\n",
       "      <td>False</td>\n",
       "      <td>False</td>\n",
       "      <td>False</td>\n",
       "      <td>False</td>\n",
       "      <td>False</td>\n",
       "      <td>False</td>\n",
       "      <td>False</td>\n",
       "      <td>False</td>\n",
       "    </tr>\n",
       "    <tr>\n",
       "      <th>4</th>\n",
       "      <td>False</td>\n",
       "      <td>False</td>\n",
       "      <td>False</td>\n",
       "      <td>False</td>\n",
       "      <td>False</td>\n",
       "      <td>False</td>\n",
       "      <td>False</td>\n",
       "      <td>False</td>\n",
       "      <td>False</td>\n",
       "      <td>False</td>\n",
       "      <td>...</td>\n",
       "      <td>False</td>\n",
       "      <td>False</td>\n",
       "      <td>False</td>\n",
       "      <td>False</td>\n",
       "      <td>False</td>\n",
       "      <td>False</td>\n",
       "      <td>False</td>\n",
       "      <td>False</td>\n",
       "      <td>False</td>\n",
       "      <td>False</td>\n",
       "    </tr>\n",
       "    <tr>\n",
       "      <th>...</th>\n",
       "      <td>...</td>\n",
       "      <td>...</td>\n",
       "      <td>...</td>\n",
       "      <td>...</td>\n",
       "      <td>...</td>\n",
       "      <td>...</td>\n",
       "      <td>...</td>\n",
       "      <td>...</td>\n",
       "      <td>...</td>\n",
       "      <td>...</td>\n",
       "      <td>...</td>\n",
       "      <td>...</td>\n",
       "      <td>...</td>\n",
       "      <td>...</td>\n",
       "      <td>...</td>\n",
       "      <td>...</td>\n",
       "      <td>...</td>\n",
       "      <td>...</td>\n",
       "      <td>...</td>\n",
       "      <td>...</td>\n",
       "      <td>...</td>\n",
       "    </tr>\n",
       "    <tr>\n",
       "      <th>9985</th>\n",
       "      <td>False</td>\n",
       "      <td>False</td>\n",
       "      <td>False</td>\n",
       "      <td>False</td>\n",
       "      <td>False</td>\n",
       "      <td>False</td>\n",
       "      <td>False</td>\n",
       "      <td>False</td>\n",
       "      <td>False</td>\n",
       "      <td>False</td>\n",
       "      <td>...</td>\n",
       "      <td>False</td>\n",
       "      <td>False</td>\n",
       "      <td>False</td>\n",
       "      <td>False</td>\n",
       "      <td>False</td>\n",
       "      <td>False</td>\n",
       "      <td>False</td>\n",
       "      <td>False</td>\n",
       "      <td>False</td>\n",
       "      <td>False</td>\n",
       "    </tr>\n",
       "    <tr>\n",
       "      <th>9986</th>\n",
       "      <td>False</td>\n",
       "      <td>False</td>\n",
       "      <td>False</td>\n",
       "      <td>False</td>\n",
       "      <td>False</td>\n",
       "      <td>False</td>\n",
       "      <td>False</td>\n",
       "      <td>False</td>\n",
       "      <td>False</td>\n",
       "      <td>False</td>\n",
       "      <td>...</td>\n",
       "      <td>False</td>\n",
       "      <td>False</td>\n",
       "      <td>False</td>\n",
       "      <td>False</td>\n",
       "      <td>False</td>\n",
       "      <td>False</td>\n",
       "      <td>False</td>\n",
       "      <td>False</td>\n",
       "      <td>False</td>\n",
       "      <td>False</td>\n",
       "    </tr>\n",
       "    <tr>\n",
       "      <th>9987</th>\n",
       "      <td>False</td>\n",
       "      <td>False</td>\n",
       "      <td>False</td>\n",
       "      <td>False</td>\n",
       "      <td>False</td>\n",
       "      <td>False</td>\n",
       "      <td>False</td>\n",
       "      <td>False</td>\n",
       "      <td>False</td>\n",
       "      <td>False</td>\n",
       "      <td>...</td>\n",
       "      <td>False</td>\n",
       "      <td>False</td>\n",
       "      <td>False</td>\n",
       "      <td>False</td>\n",
       "      <td>False</td>\n",
       "      <td>False</td>\n",
       "      <td>False</td>\n",
       "      <td>False</td>\n",
       "      <td>False</td>\n",
       "      <td>False</td>\n",
       "    </tr>\n",
       "    <tr>\n",
       "      <th>9988</th>\n",
       "      <td>False</td>\n",
       "      <td>False</td>\n",
       "      <td>False</td>\n",
       "      <td>False</td>\n",
       "      <td>False</td>\n",
       "      <td>False</td>\n",
       "      <td>False</td>\n",
       "      <td>False</td>\n",
       "      <td>False</td>\n",
       "      <td>False</td>\n",
       "      <td>...</td>\n",
       "      <td>False</td>\n",
       "      <td>False</td>\n",
       "      <td>False</td>\n",
       "      <td>False</td>\n",
       "      <td>False</td>\n",
       "      <td>False</td>\n",
       "      <td>False</td>\n",
       "      <td>False</td>\n",
       "      <td>False</td>\n",
       "      <td>False</td>\n",
       "    </tr>\n",
       "    <tr>\n",
       "      <th>9989</th>\n",
       "      <td>False</td>\n",
       "      <td>False</td>\n",
       "      <td>False</td>\n",
       "      <td>False</td>\n",
       "      <td>False</td>\n",
       "      <td>False</td>\n",
       "      <td>False</td>\n",
       "      <td>False</td>\n",
       "      <td>False</td>\n",
       "      <td>False</td>\n",
       "      <td>...</td>\n",
       "      <td>False</td>\n",
       "      <td>False</td>\n",
       "      <td>False</td>\n",
       "      <td>False</td>\n",
       "      <td>False</td>\n",
       "      <td>False</td>\n",
       "      <td>False</td>\n",
       "      <td>False</td>\n",
       "      <td>False</td>\n",
       "      <td>False</td>\n",
       "    </tr>\n",
       "  </tbody>\n",
       "</table>\n",
       "<p>9990 rows × 21 columns</p>\n",
       "</div>"
      ],
      "text/plain": [
       "      row id  customer id  order date  shipping date  ship mode  \\\n",
       "0      False        False       False          False      False   \n",
       "1      False        False       False          False      False   \n",
       "2      False        False       False          False      False   \n",
       "3      False        False       False          False      False   \n",
       "4      False        False       False          False      False   \n",
       "...      ...          ...         ...            ...        ...   \n",
       "9985   False        False       False          False      False   \n",
       "9986   False        False       False          False      False   \n",
       "9987   False        False       False          False      False   \n",
       "9988   False        False       False          False      False   \n",
       "9989   False        False       False          False      False   \n",
       "\n",
       "      customer id.1  customer name  segment  country   city  ...  postal code  \\\n",
       "0             False          False    False    False  False  ...        False   \n",
       "1             False          False    False    False  False  ...        False   \n",
       "2             False          False    False    False  False  ...        False   \n",
       "3             False          False    False    False  False  ...        False   \n",
       "4             False          False    False    False  False  ...        False   \n",
       "...             ...            ...      ...      ...    ...  ...          ...   \n",
       "9985          False          False    False    False  False  ...        False   \n",
       "9986          False          False    False    False  False  ...        False   \n",
       "9987          False          False    False    False  False  ...        False   \n",
       "9988          False          False    False    False  False  ...        False   \n",
       "9989          False          False    False    False  False  ...        False   \n",
       "\n",
       "      region  product id  category  sub category  product name  sales  \\\n",
       "0      False       False     False         False         False  False   \n",
       "1      False       False     False         False         False  False   \n",
       "2      False       False     False         False         False  False   \n",
       "3      False       False     False         False         False  False   \n",
       "4      False       False     False         False         False  False   \n",
       "...      ...         ...       ...           ...           ...    ...   \n",
       "9985   False       False     False         False         False  False   \n",
       "9986   False       False     False         False         False  False   \n",
       "9987   False       False     False         False         False  False   \n",
       "9988   False       False     False         False         False  False   \n",
       "9989   False       False     False         False         False  False   \n",
       "\n",
       "      quantity  discount  profit  \n",
       "0        False     False   False  \n",
       "1        False     False   False  \n",
       "2        False     False   False  \n",
       "3        False     False   False  \n",
       "4        False     False   False  \n",
       "...        ...       ...     ...  \n",
       "9985     False     False   False  \n",
       "9986     False     False   False  \n",
       "9987     False     False   False  \n",
       "9988     False     False   False  \n",
       "9989     False     False   False  \n",
       "\n",
       "[9990 rows x 21 columns]"
      ]
     },
     "execution_count": 20,
     "metadata": {},
     "output_type": "execute_result"
    }
   ],
   "source": [
    "# Assuming 'df' is your DataFrame containing the Superstore dataset\n",
    "# Check for missing values in the entire dataset\n",
    "null_values = df.isnull()\n",
    "\n",
    "# Optionally, you can also check for missing values in a specific column. For example, for the 'sales' column:\n",
    "# null_values_sales = df['sales'].isnull()\n",
    "\n",
    "# To count the number of missing values in each column, you can use the sum() function\n",
    "missing_count = null_values.sum()\n",
    "\n",
    "# To count the total number of missing values in the entire dataset, you can use the sum() function twice\n",
    "total_missing_count = missing_count.sum()\n",
    "print(\"\\nNumber of missing values in each column:\")\n",
    "print(missing_count)\n",
    "print()\n",
    "\n",
    "print(\"\\nTotal number of missing values in the dataset:\", total_missing_count)\n",
    "print()\n",
    "\n",
    "# Display the results\n",
    "print(\"Missing values in the entire dataset:\")\n",
    "null_values"
   ]
  },
  {
   "cell_type": "code",
   "execution_count": 49,
   "id": "7895091b",
   "metadata": {},
   "outputs": [
    {
     "data": {
      "text/plain": [
       "['Office Supplies', 'Furniture']"
      ]
     },
     "execution_count": 49,
     "metadata": {},
     "output_type": "execute_result"
    }
   ],
   "source": [
    "# Top-Selling Categories\n",
    "top_categories = df['category'].value_counts().head(2).index.tolist()\n",
    "top_categories"
   ]
  },
  {
   "cell_type": "code",
   "execution_count": 61,
   "id": "21c7491f",
   "metadata": {},
   "outputs": [
    {
     "data": {
      "text/plain": [
       "0.8153153153153153"
      ]
     },
     "execution_count": 61,
     "metadata": {},
     "output_type": "execute_result"
    }
   ],
   "source": [
    "len(df[df['category'].isin(top_categories)])/len(df)"
   ]
  },
  {
   "cell_type": "code",
   "execution_count": 55,
   "id": "61def1af",
   "metadata": {},
   "outputs": [
    {
     "data": {
      "text/plain": [
       "['Consumer', 'Corporate']"
      ]
     },
     "execution_count": 55,
     "metadata": {},
     "output_type": "execute_result"
    }
   ],
   "source": [
    "# Customer Segments\n",
    "top_segments = df['segment'].value_counts().head(2).index.tolist()\n",
    "top_segments"
   ]
  },
  {
   "cell_type": "code",
   "execution_count": 62,
   "id": "71b257ee",
   "metadata": {},
   "outputs": [
    {
     "data": {
      "text/plain": [
       "0.8215215215215215"
      ]
     },
     "execution_count": 62,
     "metadata": {},
     "output_type": "execute_result"
    }
   ],
   "source": [
    "#calculate_probability(len(df[df['segment'].isin(top_segments)]), len(df))\n",
    "len(df[df['segment'].isin(top_segments)])/len(df)"
   ]
  },
  {
   "cell_type": "code",
   "execution_count": 58,
   "id": "792f659b",
   "metadata": {},
   "outputs": [],
   "source": [
    "# Define a function for calculating probability\n",
    "def calculate_probability(event_count, total_count):\n",
    "    return event_count / total_count"
   ]
  },
  {
   "cell_type": "code",
   "execution_count": 59,
   "id": "051a00eb",
   "metadata": {},
   "outputs": [
    {
     "name": "stdout",
     "output_type": "stream",
     "text": [
      "Scenario 1: Boosting Profits\n",
      "1. Focus on the top-selling categories: ['Office Supplies', 'Furniture']\n",
      "   - Analyze high-margin products within these categories.\n",
      "2. Analyze the correlation between sales and profit: 0.7874705783917679\n",
      "   - Optimize discounts to boost both sales and profit.\n",
      "3. Identify profitable customer segments: ['Consumer', 'Corporate']\n",
      "   - Tailor marketing strategies for these segments.\n",
      "   - Probability of a sale from a high-profit category: 81.53%\n",
      "   - Probability of a sale from a profitable segment: 82.15%\n",
      "\n"
     ]
    }
   ],
   "source": [
    "# Hypothetical Scenario 1: Boosting Profits\n",
    "\n",
    "# Top-Selling Categories\n",
    "top_categories = df['category'].value_counts().head(2).index.tolist()\n",
    "\n",
    "# Sales vs. Discount\n",
    "discount_profit_corr = df['sales'].corr(df['profit'])\n",
    "\n",
    "# Customer Segments\n",
    "top_segments = df['segment'].value_counts().head(2).index.tolist()\n",
    "\n",
    "# Calculate probabilities\n",
    "probability_profitable_segment = calculate_probability(len(df[df['segment'].isin(top_segments)]), len(df))\n",
    "probability_high_profit_category = calculate_probability(len(df[df['category'].isin(top_categories)]), len(df))\n",
    "\n",
    "print(\"Scenario 1: Boosting Profits\")\n",
    "print(\"1. Focus on the top-selling categories:\", top_categories)\n",
    "print(\"   - Analyze high-margin products within these categories.\")\n",
    "\n",
    "print(\"2. Analyze the correlation between sales and profit:\", discount_profit_corr)\n",
    "print(\"   - Optimize discounts to boost both sales and profit.\")\n",
    "\n",
    "print(\"3. Identify profitable customer segments:\", top_segments)\n",
    "print(\"   - Tailor marketing strategies for these segments.\")\n",
    "\n",
    "print(f\"   - Probability of a sale from a high-profit category: {probability_high_profit_category:.2%}\")\n",
    "print(f\"   - Probability of a sale from a profitable segment: {probability_profitable_segment:.2%}\")\n",
    "print()"
   ]
  },
  {
   "cell_type": "code",
   "execution_count": 63,
   "id": "1b9af6ae",
   "metadata": {},
   "outputs": [
    {
     "name": "stdout",
     "output_type": "stream",
     "text": [
      "Scenario 2: Reducing Shipping Costs\n",
      "1. Evaluate cost-effectiveness of shipping modes: ['Standard Class', 'Second Class', 'First Class', 'Same Day']\n",
      "   - Optimize usage of economical shipping methods.\n",
      "   - Probability of choosing Standard Class: 59.73%\n",
      "   - Probability of choosing Second Class: 19.44%\n",
      "   - Probability of choosing First Class: 15.40%\n",
      "   - Probability of choosing Same Day: 5.44%\n",
      "\n"
     ]
    }
   ],
   "source": [
    "# Hypothetical Scenario 2: Reducing Shipping Costs\n",
    "\n",
    "# Shipping Modes\n",
    "shipping_modes = df['ship mode'].value_counts().index.tolist()\n",
    "\n",
    "# Calculate probability for each shipping mode\n",
    "probabilities = [calculate_probability(len(df[df['ship mode'] == mode]), len(df)) for mode in shipping_modes]\n",
    "\n",
    "print(\"Scenario 2: Reducing Shipping Costs\")\n",
    "print(\"1. Evaluate cost-effectiveness of shipping modes:\", shipping_modes)\n",
    "print(\"   - Optimize usage of economical shipping methods.\")\n",
    "\n",
    "for i, mode in enumerate(shipping_modes):\n",
    "    print(f\"   - Probability of choosing {mode}: {probabilities[i]:.2%}\")\n",
    "print()"
   ]
  },
  {
   "cell_type": "code",
   "execution_count": 64,
   "id": "b876e515",
   "metadata": {},
   "outputs": [
    {
     "name": "stdout",
     "output_type": "stream",
     "text": [
      "Scenario 3: Increasing Sales in Low-Performing Regions\n",
      "1. Conduct market research in Central to understand local preferences and needs.\n",
      "2. Implement location-specific marketing campaigns to increase brand visibility and attract more customers.\n",
      "   - Probability of a sale in South: 16.22%\n",
      "   - Probability of a sale in West: 32.03%\n",
      "   - Probability of a sale in Central: 23.24%\n",
      "   - Probability of a sale in East: 28.51%\n",
      "\n",
      "Scenario 4: Customer Satisfaction Improvement\n",
      "1. Analyze customer feedback and address common issues to enhance satisfaction.\n",
      "2. Evaluate delivery times for different regions and shipping modes.\n",
      "   - Reduce delivery times in regions with longer delivery durations.\n",
      "3. Assess product quality based on customer reviews and ratings.\n",
      "   - Identify low-rated products and work on improving their quality.\n",
      "4. Segment customers based on their purchase history and preferences.\n",
      "   - Tailor promotions and communication to their specific needs.\n",
      "   - Probability of a customer in the West region: 32.03%\n",
      "   - Probability of a customer buying more than one product: 91.00%\n",
      "\n"
     ]
    }
   ],
   "source": [
    "# Hypothetical Scenario 3: Increasing Sales in Low-Performing Regions\n",
    "\n",
    "# Market Research\n",
    "low_sales_regions = df.groupby('region')['sales'].mean().idxmin()\n",
    "\n",
    "# Calculate average sales for each region\n",
    "average_sales_by_region = df.groupby('region')['sales'].mean().to_dict()\n",
    "\n",
    "print(\"Scenario 3: Increasing Sales in Low-Performing Regions\")\n",
    "print(f\"1. Conduct market research in {low_sales_regions} to understand local preferences and needs.\")\n",
    "\n",
    "# Local Marketing\n",
    "print(\"2. Implement location-specific marketing campaigns to increase brand visibility and attract more customers.\")\n",
    "\n",
    "# Calculate probabilities of sales in each region\n",
    "probabilities = [calculate_probability(len(df[df['region'] == region]), len(df)) for region in df['region'].unique()]\n",
    "\n",
    "for region in df['region'].unique():\n",
    "    print(f\"   - Probability of a sale in {region}: {probabilities[list(df['region'].unique()).index(region)]:.2%}\")\n",
    "print()\n",
    "\n",
    "# Calculate probabilities\n",
    "probability_high_delivery_time_region = calculate_probability(len(df[df['region'] == 'West']), len(df))\n",
    "probability_low_rated_product = calculate_probability(len(df[df['quantity'] > 1]), len(df))\n",
    "\n",
    "print(\"Scenario 4: Customer Satisfaction Improvement\")\n",
    "print(\"1. Analyze customer feedback and address common issues to enhance satisfaction.\")\n",
    "print(\"2. Evaluate delivery times for different regions and shipping modes.\")\n",
    "print(\"   - Reduce delivery times in regions with longer delivery durations.\")\n",
    "print(\"3. Assess product quality based on customer reviews and ratings.\")\n",
    "print(\"   - Identify low-rated products and work on improving their quality.\")\n",
    "print(\"4. Segment customers based on their purchase history and preferences.\")\n",
    "print(\"   - Tailor promotions and communication to their specific needs.\")\n",
    "print(f\"   - Probability of a customer in the West region: {probability_high_delivery_time_region:.2%}\")\n",
    "print(f\"   - Probability of a customer buying more than one product: {probability_low_rated_product:.2%}\")\n",
    "print()"
   ]
  },
  {
   "cell_type": "code",
   "execution_count": 6,
   "id": "261ae02e",
   "metadata": {},
   "outputs": [],
   "source": [
    "import numpy as np\n",
    "from scipy import stats"
   ]
  },
  {
   "cell_type": "code",
   "execution_count": 7,
   "id": "a1c82f09",
   "metadata": {},
   "outputs": [
    {
     "name": "stdout",
     "output_type": "stream",
     "text": [
      "Scenario 5: Sales Confidence Interval Analysis\n",
      "1. Sample Mean Sales: $229.83\n",
      "2. Confidence Interval (95%): ($217.60, $242.05)\n",
      "\n",
      "Insights:\n",
      "- With 95% confidence, the average sales are estimated to be within the range provided.\n",
      "- This interval can be used to make decisions and predictions related to sales.\n"
     ]
    }
   ],
   "source": [
    "# Scenario 5: Sales Confidence Interval Analysis\n",
    "\n",
    "# Hypothetical Scenario: You are tasked with determining a confidence interval for the average sales to make informed decisions.\n",
    "\n",
    "# Define the confidence level (e.g., 95% confidence)\n",
    "confidence_level = 0.95\n",
    "\n",
    "# Extract sales data from your dataset\n",
    "sales_data = df['sales']\n",
    "\n",
    "# Calculate the mean and standard error of the mean\n",
    "mean_sales = np.mean(sales_data)\n",
    "sem_sales = stats.sem(sales_data)\n",
    "\n",
    "# Calculate the margin of error\n",
    "margin_of_error = sem_sales * stats.t.ppf((1 + confidence_level) / 2, len(sales_data) - 1)\n",
    "\n",
    "# Calculate the confidence interval\n",
    "confidence_interval = (mean_sales - margin_of_error, mean_sales + margin_of_error)\n",
    "\n",
    "# Print the results\n",
    "print(\"Scenario 5: Sales Confidence Interval Analysis\")\n",
    "print(f\"1. Sample Mean Sales: ${mean_sales:.2f}\")\n",
    "print(f\"2. Confidence Interval (95%): (${confidence_interval[0]:.2f}, ${confidence_interval[1]:.2f})\")\n",
    "\n",
    "# Insights:\n",
    "print(\"\\nInsights:\")\n",
    "print(\"- With 95% confidence, the average sales are estimated to be within the range provided.\")\n",
    "print(\"- This interval can be used to make decisions and predictions related to sales.\")"
   ]
  },
  {
   "cell_type": "code",
   "execution_count": 8,
   "id": "45ccd07c",
   "metadata": {},
   "outputs": [
    {
     "name": "stdout",
     "output_type": "stream",
     "text": [
      "Top 10 most profitable customers:\n",
      "Sanjit Chand\n",
      "Tamara Chand\n",
      "Cindy Stewart\n",
      "Grant Thornton\n",
      "Hunter Lopez\n",
      "Tom Ashbrook\n",
      "Luke Foster\n",
      "Adrian Barton\n",
      "Raymond Buch\n",
      "Sharelle Roach\n"
     ]
    }
   ],
   "source": [
    "# finding out top customers with highest margin\n",
    "top_customers=[]\n",
    "for i in df.profit:\n",
    "    if i in sorted(df['profit'],reverse=True)[:10]:\n",
    "        top_customers.append(df['customer name'][df['profit']==i].values[0])\n",
    "\n",
    "top_customers=set(top_customers)\n",
    "\n",
    "print('Top 10 most profitable customers:')\n",
    "for k in top_customers:\n",
    "    print(k)"
   ]
  },
  {
   "cell_type": "code",
   "execution_count": 9,
   "id": "15ddb521",
   "metadata": {},
   "outputs": [],
   "source": [
    "# Scenario 5: Sales Performance Analysis\n",
    "\n",
    "# Hypothetical Scenario: You are the manager of an e-commerce store and want to assess the performance of the \"Office Supplies\" category.\n",
    "\n",
    "# Analysis:\n",
    "# - Your sales target for the \"Office Supplies\" category is $10,000.\n",
    "# - You want to determine whether the actual sales for this category meet the target.\n",
    "\n",
    "# Null Hypothesis (H0): The actual sales for \"Office Supplies\" do not meet the $10,000 target.\n",
    "# Alternative Hypothesis (H1): The actual sales for \"Office Supplies\" meet or exceed the $10,000 target.\n",
    "\n",
    "# Data:\n",
    "office_supplies_data = df[df['category'] == 'Office Supplies']\n",
    "target_sales = 10000"
   ]
  },
  {
   "cell_type": "code",
   "execution_count": 10,
   "id": "fd938f6d",
   "metadata": {},
   "outputs": [],
   "source": [
    "# Calculate the actual sales for the \"Office Supplies\" category\n",
    "actual_sales = office_supplies_data['sales'].sum()"
   ]
  },
  {
   "cell_type": "code",
   "execution_count": 11,
   "id": "bb51cbab",
   "metadata": {},
   "outputs": [],
   "source": [
    "# Perform a one-sample t-test\n",
    "t_statistic, p_value = stats.ttest_1samp(office_supplies_data['sales'], target_sales)"
   ]
  },
  {
   "cell_type": "code",
   "execution_count": null,
   "id": "6520cf1d",
   "metadata": {},
   "outputs": [],
   "source": [
    "# Set the significance level (alpha)\n",
    "alpha = 0.05"
   ]
  },
  {
   "cell_type": "code",
   "execution_count": null,
   "id": "5c34dfca",
   "metadata": {},
   "outputs": [],
   "source": [
    "# Print the results\n",
    "print(\"Scenario 5: Sales Performance Analysis for 'Office Supplies' Category\")\n",
    "print(f\"Sales Target: ${target_sales:.2f}\")\n",
    "print(f\"Actual Sales: ${actual_sales:.2f}\")"
   ]
  },
  {
   "cell_type": "code",
   "execution_count": null,
   "id": "f1b53cb4",
   "metadata": {},
   "outputs": [],
   "source": [
    "# Insights:\n",
    "print(\"\\nInsights:\")\n",
    "if p_value < alpha:\n",
    "    print(\"The null hypothesis is rejected.\")\n",
    "    print(\"The 'Office Supplies' category meets or exceeds the sales target.\")\n",
    "else:\n",
    "    print(\"The null hypothesis is not rejected.\")\n",
    "    print(\"The 'Office Supplies' category does not meet the sales target.\")"
   ]
  },
  {
   "cell_type": "code",
   "execution_count": null,
   "id": "937e010f",
   "metadata": {},
   "outputs": [],
   "source": [
    "# Conclusion:\n",
    "print(\"\\nConclusion:\")\n",
    "print(\"Analyzing sales performance helps ensure targets are met.\")\n",
    "print(\"Meeting or exceeding sales targets is crucial for business success.\")"
   ]
  },
  {
   "cell_type": "code",
   "execution_count": null,
   "id": "9722a66c",
   "metadata": {},
   "outputs": [],
   "source": [
    "import matplotlib.pyplot as plt\n",
    "import seaborn as sns"
   ]
  },
  {
   "cell_type": "code",
   "execution_count": null,
   "id": "7328d93f",
   "metadata": {},
   "outputs": [],
   "source": [
    "# Scenario 5: Sales and Profit Analysis\n",
    "\n",
    "# Hypothetical Scenario: Your goal is to understand the relationship between sales and profit while considering various factors.\n",
    "\n",
    "# 1. Sales vs. Profit Scatter Plot:\n",
    "plt.figure(figsize=(12, 6))\n",
    "sns.scatterplot(data=df, x='sales', y='profit', color='blue', alpha=0.6)\n",
    "plt.title(\"Sales vs. Profit\")\n",
    "plt.xlabel(\"Sales\")\n",
    "plt.ylabel(\"Profit\")\n",
    "plt.grid(True, linestyle='--', alpha=0.5)\n",
    "plt.show()"
   ]
  },
  {
   "cell_type": "code",
   "execution_count": null,
   "id": "0b791e9a",
   "metadata": {},
   "outputs": [],
   "source": [
    "# Insights:\n",
    "print(\"Insights for Sales vs. Profit Scatter Plot:\")\n",
    "print(\"- There's a positive correlation between sales and profit.\")\n",
    "print(\"- Most data points cluster around lower sales and profit values.\")"
   ]
  },
  {
   "cell_type": "code",
   "execution_count": null,
   "id": "11c48a5f",
   "metadata": {},
   "outputs": [],
   "source": [
    "# 2. Sales by Region:\n",
    "plt.figure(figsize=(10, 6))\n",
    "sns.barplot(data=df, x='region', y='sales', ci=None, palette=\"Set2\")\n",
    "plt.title(\"Total Sales by Region\")\n",
    "plt.xlabel(\"Region\")\n",
    "plt.ylabel(\"Total Sales\")\n",
    "plt.xticks(rotation=45, ha='right')\n",
    "plt.grid(axis='y', linestyle='--', alpha=0.5)\n",
    "plt.show()"
   ]
  },
  {
   "cell_type": "code",
   "execution_count": null,
   "id": "39b0e1fb",
   "metadata": {},
   "outputs": [],
   "source": [
    "# Insights:\n",
    "print(\"\\nInsights for Total Sales by Region:\")\n",
    "print(\"- The Western region has the highest total sales, followed by the Southern and Central regions.\")\n",
    "print(\"- The Eastern region has the lowest total sales.\")"
   ]
  },
  {
   "cell_type": "code",
   "execution_count": null,
   "id": "244e443d",
   "metadata": {},
   "outputs": [],
   "source": [
    "# 3. Profit by Category:\n",
    "plt.figure(figsize=(10, 6))\n",
    "sns.barplot(data=df, x='category', y='profit', ci=None, palette=\"viridis\")\n",
    "plt.title(\"Total Profit by Category\")\n",
    "plt.xlabel(\"Category\")\n",
    "plt.ylabel(\"Total Profit\")\n",
    "plt.xticks(rotation=45, ha='right')\n",
    "plt.grid(axis='y', linestyle='--', alpha=0.5)\n",
    "plt.show()"
   ]
  },
  {
   "cell_type": "code",
   "execution_count": null,
   "id": "9490fe83",
   "metadata": {},
   "outputs": [],
   "source": [
    "# Insights:\n",
    "print(\"\\nInsights for Total Profit by Category:\")\n",
    "print(\"- Technology products generate the highest total profit.\")\n",
    "print(\"- Furniture products yield the lowest total profit.\")"
   ]
  },
  {
   "cell_type": "code",
   "execution_count": null,
   "id": "3ef55676",
   "metadata": {},
   "outputs": [],
   "source": [
    "# 4. Sales Distribution:\n",
    "plt.figure(figsize=(10, 6))\n",
    "sns.histplot(df['sales'], bins=20, kde=True, color='purple')\n",
    "plt.title(\"Sales Distribution\")\n",
    "plt.xlabel(\"Sales\")\n",
    "plt.ylabel(\"Frequency\")\n",
    "plt.grid(axis='y', linestyle='--', alpha=0.5)\n",
    "plt.show()"
   ]
  },
  {
   "cell_type": "code",
   "execution_count": null,
   "id": "fb5a3cbc",
   "metadata": {},
   "outputs": [],
   "source": [
    "# Insights:\n",
    "print(\"\\nInsights for Sales Distribution:\")\n",
    "print(\"- The sales distribution is right-skewed, with most sales falling in the lower range.\")\n",
    "print(\"- A small number of sales are in the higher range.\")"
   ]
  },
  {
   "cell_type": "code",
   "execution_count": null,
   "id": "51dbb7cc",
   "metadata": {},
   "outputs": [],
   "source": [
    "# 5. Profit by Ship Mode:\n",
    "profit_by_ship_mode = df.groupby('ship mode')['profit'].sum()\n",
    "colors = sns.color_palette('pastel')[0:4]\n",
    "plt.figure(figsize=(8, 8))\n",
    "plt.pie(profit_by_ship_mode, labels=profit_by_ship_mode.index, autopct='%1.1f%%', startangle=140, colors=colors)\n",
    "plt.title(\"Total Profit by Ship Mode\")\n",
    "plt.axis('equal')  # Equal aspect ratio ensures that the pie chart is circular.\n",
    "plt.show()"
   ]
  },
  {
   "cell_type": "code",
   "execution_count": null,
   "id": "435d80bb",
   "metadata": {},
   "outputs": [],
   "source": [
    "# Insights:\n",
    "print(\"\\nInsights for Total Profit by Ship Mode:\")\n",
    "print(\"- Standard Class and Second Class shipping modes contribute the most to total profit.\")\n",
    "print(\"- Same Day shipping, while the fastest, generates the least profit.\")\n",
    "print()\n",
    "print('HYPOTHESIS TESTING')\n",
    "print()"
   ]
  },
  {
   "cell_type": "code",
   "execution_count": null,
   "id": "4d7934cf",
   "metadata": {},
   "outputs": [],
   "source": [
    "import scipy.stats as stats"
   ]
  },
  {
   "cell_type": "code",
   "execution_count": null,
   "id": "da2843c2",
   "metadata": {},
   "outputs": [],
   "source": [
    "# Data:\n",
    "region_sales_data = {\n",
    "    'East': df[df['region'] == 'East']['sales'],\n",
    "    'West': df[df['region'] == 'West']['sales'],\n",
    "    'Central': df[df['region'] == 'Central']['sales'],\n",
    "    'South': df[df['region'] == 'South']['sales']\n",
    "}"
   ]
  },
  {
   "cell_type": "code",
   "execution_count": null,
   "id": "12aca45b",
   "metadata": {},
   "outputs": [],
   "source": [
    "# Perform one-way ANOVA\n",
    "f_statistic, p_value = stats.f_oneway(*region_sales_data.values())"
   ]
  },
  {
   "cell_type": "code",
   "execution_count": null,
   "id": "d4a5d6fd",
   "metadata": {},
   "outputs": [],
   "source": [
    "# Set the significance level (alpha)\n",
    "alpha = 0.05"
   ]
  },
  {
   "cell_type": "code",
   "execution_count": null,
   "id": "adbebc10",
   "metadata": {},
   "outputs": [],
   "source": [
    "# Print the results\n",
    "print(\"Scenario: Sales Comparison Across Regions\")\n",
    "print(\"Comparing sales across different regions\")"
   ]
  },
  {
   "cell_type": "code",
   "execution_count": null,
   "id": "3036dda6",
   "metadata": {},
   "outputs": [],
   "source": [
    "# Insights:\n",
    "print(\"\\nInsights:\")\n",
    "if p_value < alpha:\n",
    "    print(\"The null hypothesis is rejected.\")\n",
    "    print(\"There is a significant difference in average sales among different regions.\")\n",
    "else:\n",
    "    print(\"The null hypothesis is not rejected.\")\n",
    "    print(\"Average sales across regions are not significantly different.\")"
   ]
  },
  {
   "cell_type": "code",
   "execution_count": null,
   "id": "02fa3ef2",
   "metadata": {},
   "outputs": [],
   "source": [
    "# Conclusion:\n",
    "print(\"\\nConclusion:\")\n",
    "print(\"Understanding regional variations in sales is crucial for targeted strategies.\")"
   ]
  },
  {
   "cell_type": "code",
   "execution_count": null,
   "id": "ad3a29fa",
   "metadata": {},
   "outputs": [],
   "source": [
    "%matplotlib inline"
   ]
  },
  {
   "cell_type": "code",
   "execution_count": null,
   "id": "c86382a9",
   "metadata": {},
   "outputs": [],
   "source": [
    "# Ensure 'order date' is in datetime format\n",
    "df['order date'] = pd.to_datetime(df['order date'])"
   ]
  },
  {
   "cell_type": "code",
   "execution_count": null,
   "id": "19f18910",
   "metadata": {},
   "outputs": [],
   "source": [
    "# Extract 'month' and 'year' from the 'order date'\n",
    "df['month'] = df['order date'].dt.month\n",
    "df['year'] = df['order date'].dt.year"
   ]
  },
  {
   "cell_type": "code",
   "execution_count": null,
   "id": "131c2fcc",
   "metadata": {},
   "outputs": [],
   "source": [
    "# Group data by 'year' and 'month' and calculate total profit per month\n",
    "monthly_profit = df.groupby(['year', 'month'])['profit'].sum().reset_index()\n",
    "\n",
    "monthly_profit['year month']=monthly_profit['year'].astype(str)+'-'+monthly_profit['month'].astype(str)\n",
    "\n",
    "monthly_profit[:-1]\n",
    "\n",
    "monthly_profit=monthly_profit[:-1]"
   ]
  },
  {
   "cell_type": "code",
   "execution_count": null,
   "id": "4e182244",
   "metadata": {},
   "outputs": [],
   "source": [
    "import matplotlib.pyplot as plt\n",
    "import seaborn as sns"
   ]
  },
  {
   "cell_type": "code",
   "execution_count": null,
   "id": "102218a5",
   "metadata": {},
   "outputs": [],
   "source": [
    "# Set the style for the plot\n",
    "sns.set(style=\"whitegrid\")"
   ]
  },
  {
   "cell_type": "code",
   "execution_count": null,
   "id": "56c6c11a",
   "metadata": {},
   "outputs": [],
   "source": [
    "# Create a line plot using seaborn\n",
    "plt.figure(figsize=(12, 6))\n",
    "ax = sns.lineplot(x=\"year month\", y=\"profit\", data=monthly_profit, marker=\"o\")"
   ]
  },
  {
   "cell_type": "code",
   "execution_count": null,
   "id": "c070934b",
   "metadata": {},
   "outputs": [],
   "source": [
    "# Add labels and title\n",
    "plt.title(\"Monthly Profit Over Time\")\n",
    "plt.xlabel(\"Year-Month\")\n",
    "plt.ylabel(\"Total Profit\")\n",
    "plt.xticks(rotation=45)\n",
    "plt.show()"
   ]
  },
  {
   "cell_type": "code",
   "execution_count": null,
   "id": "7d616e22",
   "metadata": {},
   "outputs": [],
   "source": [
    "import pandas as pd\n",
    "from statsmodels.tsa.arima.model import ARIMA"
   ]
  },
  {
   "cell_type": "code",
   "execution_count": null,
   "id": "2b2d32f6",
   "metadata": {},
   "outputs": [],
   "source": [
    "# Assuming you have the monthly profit data in the 'monthly_profit' DataFrame\n",
    "n_periods = 6  # Number of future periods to forecast (e.g., 6 months)"
   ]
  },
  {
   "cell_type": "code",
   "execution_count": null,
   "id": "b40d9fbd",
   "metadata": {},
   "outputs": [],
   "source": [
    "# Initialize an ARIMA model\n",
    "model = ARIMA(monthly_profit['profit'], order=(5, 1, 0))\n",
    "\n",
    "model_fit = model.fit()"
   ]
  },
  {
   "cell_type": "code",
   "execution_count": null,
   "id": "5e3a79bc",
   "metadata": {},
   "outputs": [],
   "source": [
    "# Get the forecast for the next 'n_periods' periods\n",
    "forecast = model_fit.get_forecast(steps=n_periods)\n",
    "\n",
    "forecast"
   ]
  },
  {
   "cell_type": "code",
   "execution_count": null,
   "id": "cd70bd89",
   "metadata": {},
   "outputs": [],
   "source": [
    "# Extract the forecasted values and create a DataFrame\n",
    "forecasted_data = forecast.predicted_mean.to_frame(name='profit')\n",
    "\n",
    "forecasted_data"
   ]
  },
  {
   "cell_type": "code",
   "execution_count": null,
   "id": "8659d93c",
   "metadata": {},
   "outputs": [],
   "source": [
    "predict_index=['2023-8','2023-9','2023-10','2023-11','2023-12','2024-1']\n",
    "\n",
    "forecasted_data['year month']=predict_index\n",
    "\n",
    "forecasted_data"
   ]
  },
  {
   "cell_type": "code",
   "execution_count": null,
   "id": "a05a6da3",
   "metadata": {},
   "outputs": [],
   "source": [
    "# Concatenate the DataFrames\n",
    "result = pd.concat([monthly_profit, forecasted_data], ignore_index=True)\n",
    "\n",
    "result"
   ]
  },
  {
   "cell_type": "code",
   "execution_count": null,
   "id": "0485c48f",
   "metadata": {},
   "outputs": [],
   "source": [
    "# Set the style for the plot\n",
    "sns.set(style=\"whitegrid\")"
   ]
  },
  {
   "cell_type": "code",
   "execution_count": null,
   "id": "928f9843",
   "metadata": {},
   "outputs": [],
   "source": [
    "# Create a line plot using seaborn\n",
    "plt.figure(figsize=(12, 6))\n",
    "ax = sns.lineplot(x=\"year month\", y=\"profit\", data=result, marker=\"o\")"
   ]
  },
  {
   "cell_type": "code",
   "execution_count": null,
   "id": "3aab94a9",
   "metadata": {},
   "outputs": [],
   "source": [
    "# Add labels and title\n",
    "plt.title(\"Monthly Profit Over Time\")\n",
    "plt.xlabel(\"Year-Month\")\n",
    "plt.ylabel(\"Total Profit\")\n",
    "plt.xticks(rotation=45)\n",
    "plt.show()"
   ]
  },
  {
   "cell_type": "code",
   "execution_count": null,
   "id": "36b90d75",
   "metadata": {},
   "outputs": [],
   "source": [
    "model_fit.aic"
   ]
  },
  {
   "cell_type": "code",
   "execution_count": null,
   "id": "47572783",
   "metadata": {},
   "outputs": [],
   "source": [
    "import pandas as pd\n",
    "from statsmodels.tsa.arima.model import ARIMA\n",
    "import seaborn as sns\n",
    "import matplotlib.pyplot as plt\n",
    "import warnings\n",
    "warnings.filterwarnings('ignore')"
   ]
  },
  {
   "cell_type": "code",
   "execution_count": null,
   "id": "139a34c7",
   "metadata": {},
   "outputs": [],
   "source": [
    "# Create a date range for the forecasted periods and convert them to strings\n",
    "predict_index = pd.date_range(start=\"2023-8\", periods=n_periods, freq=\"M\").strftime('%Y-%m')"
   ]
  },
  {
   "cell_type": "code",
   "execution_count": null,
   "id": "bf40e532",
   "metadata": {},
   "outputs": [],
   "source": [
    "# Create a DataFrame for the forecast\n",
    "forecasted_data = forecast.predicted_mean.to_frame(name='profit')\n",
    "forecasted_data['year month'] = predict_index"
   ]
  },
  {
   "cell_type": "code",
   "execution_count": null,
   "id": "8878fd26",
   "metadata": {},
   "outputs": [],
   "source": [
    "# Assuming you have the monthly profit data in the 'monthly_profit' DataFrame\n",
    "#monthly_profit = pd.DataFrame({'profit': [100, 150, 200, 180, 210, 250, 300, 280, 320, 340, 400, 380]})\n",
    "\n",
    "# Define the number of future periods to forecast\n",
    "n_periods = 6"
   ]
  },
  {
   "cell_type": "code",
   "execution_count": null,
   "id": "ca9e98f1",
   "metadata": {},
   "outputs": [],
   "source": [
    "# Manual grid search for ARIMA order values\n",
    "best_aic = float(\"inf\")\n",
    "best_order = None"
   ]
  },
  {
   "cell_type": "code",
   "execution_count": null,
   "id": "44e7d9d2",
   "metadata": {},
   "outputs": [],
   "source": [
    "# Loop through different values of p (AR order), d (Integration order), and q (MA order)\n",
    "for p in range(6):  # Try p values from 0 to 5\n",
    "    for d in range(2):  # Try d values of 0 and 1\n",
    "        for q in range(6):  # Try q values from 0 to 5\n",
    "            order = (p, d, q)\n",
    "            try:\n",
    "                # Attempt to fit an ARIMA model with the current order\n",
    "                model = ARIMA(monthly_profit['profit'], order=order)\n",
    "                model_fit = model.fit()\n",
    "                aic = model_fit.aic\n",
    "\n",
    "                # Check if the current model has a lower AIC (Akaike Information Criterion)\n",
    "                # Lower AIC values indicate a better fit\n",
    "                if aic < best_aic:\n",
    "                    best_aic = aic\n",
    "                    best_order = order\n",
    "\n",
    "            except:\n",
    "                # If an exception occurs (e.g., model cannot be fit), continue to the next order\n",
    "                continue"
   ]
  },
  {
   "cell_type": "code",
   "execution_count": null,
   "id": "0bbdcab6",
   "metadata": {},
   "outputs": [],
   "source": [
    "# Fit the best model based on the lowest AIC\n",
    "best_model = ARIMA(monthly_profit['profit'], order=best_order)\n",
    "best_model_fit = best_model.fit()"
   ]
  },
  {
   "cell_type": "code",
   "execution_count": null,
   "id": "2f6437cc",
   "metadata": {},
   "outputs": [],
   "source": [
    "# Get the forecast for the next 'n_periods' periods\n",
    "forecast = best_model_fit.get_forecast(steps=n_periods)"
   ]
  },
  {
   "cell_type": "code",
   "execution_count": null,
   "id": "581040d6",
   "metadata": {},
   "outputs": [],
   "source": [
    "# Create a DataFrame for the forecast\n",
    "forecasted_data = forecast.predicted_mean.to_frame(name='profit')\n",
    "forecasted_data['year month'] = predict_index"
   ]
  },
  {
   "cell_type": "code",
   "execution_count": null,
   "id": "92f6f812",
   "metadata": {},
   "outputs": [],
   "source": [
    "# Concatenate the original data and the forecast\n",
    "result = pd.concat([monthly_profit, forecasted_data], ignore_index=True)"
   ]
  },
  {
   "cell_type": "code",
   "execution_count": null,
   "id": "f4a075d1",
   "metadata": {},
   "outputs": [],
   "source": [
    "# Set the style for the plot\n",
    "sns.set(style=\"whitegrid\")"
   ]
  },
  {
   "cell_type": "code",
   "execution_count": null,
   "id": "eeaf80cb",
   "metadata": {},
   "outputs": [],
   "source": [
    "# Create a line plot using seaborn\n",
    "plt.figure(figsize=(12, 6))\n",
    "ax = sns.lineplot(x=\"year month\", y=\"profit\", data=result, marker=\"o\")"
   ]
  },
  {
   "cell_type": "code",
   "execution_count": null,
   "id": "047ff46a",
   "metadata": {},
   "outputs": [],
   "source": [
    "# Add labels and title\n",
    "plt.title(\"Monthly Profit Over Time\")\n",
    "plt.xlabel(\"Year-Month\")\n",
    "plt.ylabel(\"Total Profit\")\n",
    "plt.xticks(rotation=45)\n",
    "plt.show()"
   ]
  },
  {
   "cell_type": "code",
   "execution_count": null,
   "id": "ca0ca3b9",
   "metadata": {},
   "outputs": [],
   "source": [
    "import pandas as pd\n",
    "from sklearn.model_selection import train_test_split\n",
    "from sklearn.preprocessing import OneHotEncoder\n",
    "from sklearn.linear_model import LinearRegression\n",
    "from sklearn.tree import DecisionTreeRegressor\n",
    "from sklearn.ensemble import RandomForestRegressor, GradientBoostingRegressor\n",
    "from sklearn.svm import SVR\n",
    "from sklearn.metrics import mean_absolute_error, mean_squared_error, r2_score\n",
    "from sklearn.model_selection import cross_val_score"
   ]
  },
  {
   "cell_type": "code",
   "execution_count": null,
   "id": "a057dc83",
   "metadata": {},
   "outputs": [],
   "source": [
    "# Load your dataset\n",
    "df = pd.read_excel('Superstore - Copy.xlsx')"
   ]
  },
  {
   "cell_type": "code",
   "execution_count": null,
   "id": "641c19ef",
   "metadata": {},
   "outputs": [],
   "source": [
    "# Ensure 'order date' is in datetime format\n",
    "df['order date'] = pd.to_datetime(df['order date'])"
   ]
  },
  {
   "cell_type": "code",
   "execution_count": null,
   "id": "1f709d65",
   "metadata": {},
   "outputs": [],
   "source": [
    "# Extract 'month' and 'year' from the 'order date'\n",
    "df['month'] = df['order date'].dt.month\n",
    "df['year'] = df['order date'].dt.year"
   ]
  },
  {
   "cell_type": "code",
   "execution_count": null,
   "id": "a52e771f",
   "metadata": {},
   "outputs": [],
   "source": [
    "# Select relevant features and encode categorical features\n",
    "categorical_features = ['ship mode', 'segment', 'region']\n",
    "numerical_features = ['sales', 'quantity', 'discount', 'month', 'year']"
   ]
  },
  {
   "cell_type": "code",
   "execution_count": null,
   "id": "90e17ee9",
   "metadata": {},
   "outputs": [],
   "source": [
    "encoder = OneHotEncoder(sparse=False)\n",
    "encoded_features = encoder.fit_transform(df[categorical_features])"
   ]
  },
  {
   "cell_type": "code",
   "execution_count": null,
   "id": "6fefa488",
   "metadata": {},
   "outputs": [],
   "source": [
    "# Combine encoded features and numeric features\n",
    "X = pd.concat([pd.DataFrame(encoded_features), df[numerical_features]], axis=1)"
   ]
  },
  {
   "cell_type": "code",
   "execution_count": null,
   "id": "2c695c4e",
   "metadata": {},
   "outputs": [],
   "source": [
    "# Target variable\n",
    "y = df['profit']"
   ]
  },
  {
   "cell_type": "code",
   "execution_count": null,
   "id": "4600ce5d",
   "metadata": {},
   "outputs": [],
   "source": [
    "# Split the data into training and testing sets\n",
    "X_train, X_test, y_train, y_test = train_test_split(X, y, test_size=0.2, random_state=42)"
   ]
  },
  {
   "cell_type": "code",
   "execution_count": null,
   "id": "b1bf2cd1",
   "metadata": {},
   "outputs": [],
   "source": [
    "# Initialize regression algorithms\n",
    "models = {\n",
    "    'Linear Regression': LinearRegression(),\n",
    "    'Decision Tree': DecisionTreeRegressor(),\n",
    "    'Random Forest': RandomForestRegressor(),\n",
    "    'Gradient Boosting': GradientBoostingRegressor(),\n",
    "    'Support Vector Regression': SVR()\n",
    "}"
   ]
  },
  {
   "cell_type": "code",
   "execution_count": null,
   "id": "b2871263",
   "metadata": {},
   "outputs": [],
   "source": [
    "# Evaluate each model\n",
    "results = {}\n",
    "for model_name, model in models.items():\n",
    "    model.fit(X_train, y_train)\n",
    "    y_pred = model.predict(X_test)\n",
    "    mae = mean_absolute_error(y_test, y_pred)\n",
    "    mse = mean_squared_error(y_test, y_pred)\n",
    "    r2 = r2_score(y_test, y_pred)\n",
    "    \n",
    "    # Cross-validation (optional)\n",
    "    cross_val_scores = cross_val_score(model, X, y, cv=5, scoring='neg_mean_absolute_error')\n",
    "    \n",
    "    results[model_name] = {\n",
    "        'MAE': mae,\n",
    "        'MSE': mse,\n",
    "        'R2': r2,\n",
    "        'Cross-Validation MAE': -cross_val_scores.mean()  # Negative MAE for consistency\n",
    "    }"
   ]
  },
  {
   "cell_type": "code",
   "execution_count": null,
   "id": "a915238d",
   "metadata": {},
   "outputs": [],
   "source": [
    "# Choose the best model based on evaluation metrics\n",
    "best_model = min(results, key=lambda x: results[x]['MAE'])"
   ]
  },
  {
   "cell_type": "code",
   "execution_count": null,
   "id": "723d4695",
   "metadata": {},
   "outputs": [],
   "source": [
    "# Print the results\n",
    "for model_name, metrics in results.items():\n",
    "    print(f'{model_name}:')\n",
    "    print(f'MAE: {metrics[\"MAE\"]}')\n",
    "    print(f'MSE: {metrics[\"MSE\"]}')\n",
    "    print(f'R2: {metrics[\"R2\"]}')\n",
    "    print(f'Cross-Validation MAE: {metrics[\"Cross-Validation MAE\"]}\\n')\n",
    "\n",
    "print(f'Best Model: {best_model}')"
   ]
  },
  {
   "cell_type": "code",
   "execution_count": null,
   "id": "91939937",
   "metadata": {},
   "outputs": [],
   "source": []
  }
 ],
 "metadata": {
  "kernelspec": {
   "display_name": "Python 3 (ipykernel)",
   "language": "python",
   "name": "python3"
  },
  "language_info": {
   "codemirror_mode": {
    "name": "ipython",
    "version": 3
   },
   "file_extension": ".py",
   "mimetype": "text/x-python",
   "name": "python",
   "nbconvert_exporter": "python",
   "pygments_lexer": "ipython3",
   "version": "3.11.2"
  }
 },
 "nbformat": 4,
 "nbformat_minor": 5
}
