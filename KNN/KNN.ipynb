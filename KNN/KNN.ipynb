{
 "cells": [
  {
   "cell_type": "code",
   "execution_count": 20,
   "id": "f6d8a202",
   "metadata": {},
   "outputs": [
    {
     "name": "stdout",
     "output_type": "stream",
     "text": [
      "[1.5, 1.0, 0.5, 0.5, 1.5, 2.5, 3.5, 4.5, 5.5, 6.5]\n",
      "\n",
      "[(1.5, 4), (1.0, 6.25), (0.5, 9), (0.5, 16), (1.5, 25), (2.5, 36), (3.5, 49), (4.5, 64), (5.5, 81), (6.5, 100)]\n",
      "\n",
      "[(0.5, 9), (0.5, 16), (1.0, 6.25), (1.5, 4), (1.5, 25), (2.5, 36), (3.5, 49), (4.5, 64), (5.5, 81), (6.5, 100)]\n",
      "\n",
      "[(0.5, 9), (0.5, 16), (1.0, 6.25)]\n",
      "\n",
      "[9, 16, 6.25]\n",
      "\n",
      "KNN prediction for 3.5 with k=3: 10.416666666666666\n"
     ]
    }
   ],
   "source": [
    "def euclidean_distance(point1, point2):\n",
    "    return ((point1 - point2) ** 2) ** 0.5\n",
    "\n",
    "def knn(x, y, target_value, k):\n",
    "    # Calculate distances to all points in the dataset\n",
    "    distances = [euclidean_distance(target_value, xi) for xi in x]\n",
    "    print(distances)\n",
    "    print()\n",
    "    \n",
    "    # Combine distances with corresponding y values\n",
    "    data = list(zip(distances, y))\n",
    "    print(data)\n",
    "    print()\n",
    "    \n",
    "    # Sort data based on distances\n",
    "    sorted_data = sorted(data, key=lambda d: d[0])\n",
    "    print(sorted_data)\n",
    "    print()\n",
    "    \n",
    "    # Take the k-nearest neighbors\n",
    "    k_nearest = sorted_data[:k]\n",
    "    print(k_nearest)\n",
    "    print()\n",
    "    \n",
    "    # Extract y values of the k-nearest neighbors\n",
    "    k_nearest_y = [neighbor[1] for neighbor in k_nearest]\n",
    "    print(k_nearest_y)\n",
    "    print()\n",
    "    \n",
    "    # Calculate the average of the k-nearest neighbors\n",
    "    prediction = sum(k_nearest_y) / k\n",
    "\n",
    "    return prediction\n",
    "\n",
    "# Example usage:\n",
    "x_values = [2, 2.5, 3, 4, 5, 6, 7, 8, 9, 10]\n",
    "y_values = [4, 6.25, 9, 16, 25, 36, 49, 64, 81, 100]\n",
    "target_value = 3.5\n",
    "k_neighbors = 3\n",
    "\n",
    "result = knn(x_values, y_values, target_value, k_neighbors)\n",
    "print(f\"KNN prediction for {target_value} with k={k_neighbors}: {result}\")\n"
   ]
  },
  {
   "cell_type": "code",
   "execution_count": null,
   "id": "9e3ac5fb",
   "metadata": {},
   "outputs": [],
   "source": []
  }
 ],
 "metadata": {
  "kernelspec": {
   "display_name": "Python 3 (ipykernel)",
   "language": "python",
   "name": "python3"
  },
  "language_info": {
   "codemirror_mode": {
    "name": "ipython",
    "version": 3
   },
   "file_extension": ".py",
   "mimetype": "text/x-python",
   "name": "python",
   "nbconvert_exporter": "python",
   "pygments_lexer": "ipython3",
   "version": "3.11.2"
  }
 },
 "nbformat": 4,
 "nbformat_minor": 5
}
