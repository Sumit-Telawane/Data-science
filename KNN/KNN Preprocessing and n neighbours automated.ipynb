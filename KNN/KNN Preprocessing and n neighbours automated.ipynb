{
 "cells": [
  {
   "cell_type": "code",
   "execution_count": 6,
   "id": "5a8473ba",
   "metadata": {},
   "outputs": [],
   "source": [
    "import numpy as np\n",
    "import pandas as pd\n",
    "from sklearn.model_selection import train_test_split\n",
    "from sklearn.preprocessing import MaxAbsScaler, MinMaxScaler, RobustScaler, StandardScaler, Normalizer\n",
    "from sklearn.neighbors import KNeighborsClassifier\n",
    "from sklearn.metrics import classification_report,accuracy_score\n",
    "\n",
    "def knn_without_preprocess(n=5,show_output='no'):\n",
    "    global acc_score\n",
    "    X=df.drop(['TARGET CLASS'],axis=1)\n",
    "\n",
    "    y=df['TARGET CLASS']\n",
    "    \n",
    "    X_train, X_test, y_train, y_test = train_test_split(X, y, test_size=0.3, random_state=101)\n",
    "\n",
    "    knn=KNeighborsClassifier(n_neighbors=n)\n",
    "    knn.fit(X_train,y_train)\n",
    "    y_pred=knn.predict(X_test)\n",
    "    acc_score=accuracy_score(y_test,y_pred)*100\n",
    "    if show_output.lower()=='yes':\n",
    "        print(f'Accuracy Score: {acc_score}')\n",
    "        \n",
    "    else:\n",
    "        pass\n",
    "    \n",
    "def knn_with_preprocess(scaler,n=5,show_output='no'):\n",
    "    global acc_score\n",
    "    X=df.drop(['TARGET CLASS'],axis=1)\n",
    "\n",
    "    y=df['TARGET CLASS']\n",
    "    \n",
    "    ss=scaler()\n",
    "    ss.fit(X)\n",
    "    X=ss.transform(X)\n",
    "\n",
    "    X_train, X_test, y_train, y_test = train_test_split(X, y, test_size=0.3, random_state=101)\n",
    "\n",
    "    knn=KNeighborsClassifier(n_neighbors=n)\n",
    "    knn.fit(X_train,y_train)\n",
    "    y_pred=knn.predict(X_test)\n",
    "    acc_score=accuracy_score(y_test,y_pred)*100\n",
    "    if show_output.lower()=='yes':\n",
    "        print(f'Accuracy Score: {acc_score}')\n",
    "        \n",
    "    else:\n",
    "        pass\n",
    "    \n",
    "def finding_parameters():\n",
    "    global best_parameter,scaler_li\n",
    "    scaler_li=[MaxAbsScaler, MinMaxScaler, RobustScaler, StandardScaler, Normalizer]\n",
    "    score_di={}\n",
    "    for i in scaler_li:\n",
    "        for j in range(1,600):\n",
    "            key_li=i.__name__+' '+str(j)\n",
    "            knn_with_preprocess(i,j)\n",
    "            score_di[key_li]=acc_score\n",
    "    best_parameter=(max(zip(score_di.values(),score_di.keys())))\n"
   ]
  },
  {
   "cell_type": "markdown",
   "id": "b1ba5a3c",
   "metadata": {},
   "source": [
    "# Without preprocessing"
   ]
  },
  {
   "cell_type": "code",
   "execution_count": 7,
   "id": "808f59e6",
   "metadata": {},
   "outputs": [],
   "source": [
    "df=pd.read_csv('Classified Data.csv')"
   ]
  },
  {
   "cell_type": "code",
   "execution_count": 8,
   "id": "83addf57",
   "metadata": {},
   "outputs": [
    {
     "name": "stdout",
     "output_type": "stream",
     "text": [
      "Accuracy Score: 45.0\n"
     ]
    }
   ],
   "source": [
    "knn_without_preprocess(show_output='yes')"
   ]
  },
  {
   "cell_type": "markdown",
   "id": "37b8ffda",
   "metadata": {},
   "source": [
    "# With Preprocessing"
   ]
  },
  {
   "cell_type": "code",
   "execution_count": 9,
   "id": "ad6e9e64",
   "metadata": {},
   "outputs": [
    {
     "name": "stdout",
     "output_type": "stream",
     "text": [
      "Accuracy Score: 92.0\n"
     ]
    }
   ],
   "source": [
    "knn_with_preprocess(StandardScaler,show_output='yes')"
   ]
  },
  {
   "cell_type": "markdown",
   "id": "868f8cf3",
   "metadata": {},
   "source": [
    "# Finding Best Parameters"
   ]
  },
  {
   "cell_type": "code",
   "execution_count": 10,
   "id": "676923bf",
   "metadata": {},
   "outputs": [],
   "source": [
    "finding_parameters()"
   ]
  },
  {
   "cell_type": "code",
   "execution_count": 11,
   "id": "65fed0e8",
   "metadata": {},
   "outputs": [
    {
     "data": {
      "text/plain": [
       "(96.0, 'StandardScaler 364')"
      ]
     },
     "execution_count": 11,
     "metadata": {},
     "output_type": "execute_result"
    }
   ],
   "source": [
    "best_parameter"
   ]
  },
  {
   "cell_type": "markdown",
   "id": "9b2df102",
   "metadata": {},
   "source": [
    "# Removing Index Column From Dataset"
   ]
  },
  {
   "cell_type": "code",
   "execution_count": 12,
   "id": "d7ea01f7",
   "metadata": {},
   "outputs": [],
   "source": [
    "df=pd.read_csv('Classified Data.csv',index_col=0)"
   ]
  },
  {
   "cell_type": "code",
   "execution_count": 13,
   "id": "67850785",
   "metadata": {},
   "outputs": [
    {
     "name": "stdout",
     "output_type": "stream",
     "text": [
      "Accuracy Score: 94.33333333333334\n"
     ]
    }
   ],
   "source": [
    "knn_with_preprocess(StandardScaler,show_output='yes')"
   ]
  },
  {
   "cell_type": "code",
   "execution_count": 14,
   "id": "b13801b2",
   "metadata": {},
   "outputs": [],
   "source": [
    "finding_parameters()"
   ]
  },
  {
   "cell_type": "markdown",
   "id": "5a6450b0",
   "metadata": {},
   "source": [
    "# Best Model"
   ]
  },
  {
   "cell_type": "markdown",
   "id": "44d86be5",
   "metadata": {},
   "source": [
    "#### Manual "
   ]
  },
  {
   "cell_type": "code",
   "execution_count": 15,
   "id": "82184715",
   "metadata": {},
   "outputs": [
    {
     "name": "stdout",
     "output_type": "stream",
     "text": [
      "Accuracy Score: 96.0\n"
     ]
    }
   ],
   "source": [
    "knn_with_preprocess(StandardScaler,40,show_output='yes')"
   ]
  },
  {
   "cell_type": "markdown",
   "id": "c552acb0",
   "metadata": {},
   "source": [
    "#### Automated"
   ]
  },
  {
   "cell_type": "code",
   "execution_count": 16,
   "id": "39830a46",
   "metadata": {},
   "outputs": [
    {
     "name": "stdout",
     "output_type": "stream",
     "text": [
      "Optimum K value: 260\n",
      "Best Preprocessing Scaler:RobustScaler\n",
      "Accuracy Score: 96.33333333333334\n"
     ]
    }
   ],
   "source": [
    "for i in scaler_li:\n",
    "    if (best_parameter[1].split()[0])==str(i.__name__):\n",
    "        print(f'Optimum K value: {int(best_parameter[1].split()[1])}')\n",
    "        print(f'Best Preprocessing Scaler:{i.__name__}')\n",
    "        knn_with_preprocess(scaler=i,n=int(best_parameter[1].split()[1]),show_output='yes')"
   ]
  },
  {
   "cell_type": "code",
   "execution_count": null,
   "id": "dd45312b",
   "metadata": {},
   "outputs": [],
   "source": []
  }
 ],
 "metadata": {
  "kernelspec": {
   "display_name": "Python 3 (ipykernel)",
   "language": "python",
   "name": "python3"
  },
  "language_info": {
   "codemirror_mode": {
    "name": "ipython",
    "version": 3
   },
   "file_extension": ".py",
   "mimetype": "text/x-python",
   "name": "python",
   "nbconvert_exporter": "python",
   "pygments_lexer": "ipython3",
   "version": "3.8.11"
  }
 },
 "nbformat": 4,
 "nbformat_minor": 5
}
